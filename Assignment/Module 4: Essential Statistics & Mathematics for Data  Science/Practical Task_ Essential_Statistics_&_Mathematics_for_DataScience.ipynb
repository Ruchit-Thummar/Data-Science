{
  "nbformat": 4,
  "nbformat_minor": 0,
  "metadata": {
    "colab": {
      "provenance": []
    },
    "kernelspec": {
      "name": "python3",
      "display_name": "Python 3"
    },
    "language_info": {
      "name": "python"
    }
  },
  "cells": [
    {
      "cell_type": "markdown",
      "source": [
        "## Assignment"
      ],
      "metadata": {
        "id": "5Yx0XQWAzgNl"
      }
    },
    {
      "cell_type": "code",
      "source": [
        "import numpy as np\n",
        "import pandas as pd\n",
        "import matplotlib.pyplot as plt\n",
        "import seaborn as sns\n",
        "from scipy import stats"
      ],
      "metadata": {
        "id": "tHKdUGyU0y5r"
      },
      "execution_count": 59,
      "outputs": []
    },
    {
      "cell_type": "markdown",
      "source": [
        "1. Business Problem: A car rental company wants to analyze the rental durations of itscustomers to understand the typical rental period and optimize its pricing andfleet\n",
        "management strategies. Data: Let's consider the rental durations (in days) for asample of 50 customers:\n",
        "\n",
        "\n",
        "3, 2, 5, 4, 7, 2, 3, 3, 1, 6, 4, 2, 3, 5, 2, 4, 2, 1, 3, 5, 6, 3, 2, 1, 4, 2, 4, 5, 3, 2, 7, 2, 3, 4, 5, 1, 6, 2, 4, 3, 5, 3, 2, 4, 2, 6, 3, 2, 4, 5\n",
        "\n",
        " Question:\n",
        "\n",
        " a. Mean: What is the average rental duration for customers at the car rental\n",
        " company?\n",
        "\n",
        " b. Median: What is the typical or central rental duration experienced by\n",
        " customers?\n",
        "\n",
        " c. Mode: Are there any recurring or most frequently occurring rental\n",
        " durations for customers?\n",
        "\n",
        "By answering these questions using the mean, median, and mode, thecar\n",
        "rental company can gain insights into the average rental duration, understand the most common rental periods, and make informed decisionsregarding pricing, fleet size, and availability. Additionally, this analysiscan help the company optimize resource allocation, plan for peak demandperiods, and enhance customer\n",
        "satisfaction by aligning service offeringswith customers' typical rental needs."
      ],
      "metadata": {
        "id": "G32OHS6Mz44F"
      }
    },
    {
      "cell_type": "markdown",
      "source": [
        "Questions:\n",
        "\n",
        "a. Mean: What is the average rental duration for customers at the car rental\n",
        "company?\n"
      ],
      "metadata": {
        "id": "mQZOMoOB0eYR"
      }
    },
    {
      "cell_type": "code",
      "source": [
        "data = np.array([3, 2, 5, 4, 7, 2, 3, 3, 1, 6, 4, 2, 3, 5, 2, 4, 2, 1, 3, 5, 6, 3, 2, 1, 4, 2, 4, 5, 3, 2, 7, 2, 3, 4, 5, 1, 6, 2, 4, 3, 5, 3, 2, 4, 2, 6, 3, 2, 4, 5])"
      ],
      "metadata": {
        "id": "aHno8eJI0uBD"
      },
      "execution_count": 3,
      "outputs": []
    },
    {
      "cell_type": "code",
      "source": [
        "np.mean(data)"
      ],
      "metadata": {
        "colab": {
          "base_uri": "https://localhost:8080/"
        },
        "id": "jArXsbzV1Ap4",
        "outputId": "00092e13-6b45-4421-c559-7a04a1ae4614"
      },
      "execution_count": 90,
      "outputs": [
        {
          "output_type": "execute_result",
          "data": {
            "text/plain": [
              "np.float64(28.571428571428573)"
            ]
          },
          "metadata": {},
          "execution_count": 90
        }
      ]
    },
    {
      "cell_type": "code",
      "source": [],
      "metadata": {
        "id": "Zlryv6Wb2asq"
      },
      "execution_count": 4,
      "outputs": []
    },
    {
      "cell_type": "markdown",
      "source": [
        "b. Median: What is the typical or central rental duration experienced by customers?"
      ],
      "metadata": {
        "id": "2nwiv0lp2e-c"
      }
    },
    {
      "cell_type": "code",
      "source": [
        "np.median(data)"
      ],
      "metadata": {
        "colab": {
          "base_uri": "https://localhost:8080/"
        },
        "id": "_ZcRUfN62k_a",
        "outputId": "7d48bfcf-82cd-4b6b-96d5-a0708d896d9d"
      },
      "execution_count": 89,
      "outputs": [
        {
          "output_type": "execute_result",
          "data": {
            "text/plain": [
              "np.float64(30.0)"
            ]
          },
          "metadata": {},
          "execution_count": 89
        }
      ]
    },
    {
      "cell_type": "code",
      "source": [],
      "metadata": {
        "id": "U1afs3DN29dj"
      },
      "execution_count": 5,
      "outputs": []
    },
    {
      "cell_type": "markdown",
      "source": [
        "c. Mode: Are there any recurring or most frequently occurring rental\n",
        "durations for customers?"
      ],
      "metadata": {
        "id": "pILuP1PD2-56"
      }
    },
    {
      "cell_type": "code",
      "source": [
        "stats.mode(data)"
      ],
      "metadata": {
        "colab": {
          "base_uri": "https://localhost:8080/"
        },
        "id": "fcUSYF3U3EkM",
        "outputId": "13864b0f-3125-45e6-b8ca-9e5604d54fbd"
      },
      "execution_count": 6,
      "outputs": [
        {
          "output_type": "execute_result",
          "data": {
            "text/plain": [
              "np.int64(2)"
            ]
          },
          "metadata": {},
          "execution_count": 6
        }
      ]
    },
    {
      "cell_type": "code",
      "source": [],
      "metadata": {
        "id": "-BjlK0MZ3LJC"
      },
      "execution_count": 6,
      "outputs": []
    },
    {
      "cell_type": "markdown",
      "source": [
        "2. An e-commerce platform wants to analyze the delivery times of its shipments tounderstand the variability in order fulfillment and optimize its logistics operations. Data:\n",
        "\n",
        "Let's consider the delivery times (in days) for a sample of 50 shipments:\n",
        "3, 5, 2, 4, 6, 2, 3, 4, 2, 5, 7, 2, 3, 4, 2, 4, 2, 3, 5, 6, 3, 2, 1, 4, 2, 4, 5, 3, 2, 7, 2, 3, 4, 5, 1, 6, 2, 4, 3, 5, 3, 2, 4, 2, 6, 3, 2, 4, 5, 3\n",
        "\n",
        " Questions:\n",
        "\n",
        " a. Range: What is the range of the delivery times?\n",
        "\n",
        " b. Variance: What is the variance of the delivery times?\n",
        "\n",
        " c. Standard Deviation: What is the standard deviation of the delivery times?\n",
        "\n",
        "By answering these questions using different measures of dispersion, the e- commerce platform can gain insights into the variability in delivery times, identify any bottlenecks in the logistics process, and make informed decisionsregarding shipment tracking,customer expectations, and service level agreements."
      ],
      "metadata": {
        "id": "_N1YKogl3kqf"
      }
    },
    {
      "cell_type": "markdown",
      "source": [
        "Questions:\n",
        "\n",
        "a. Range: What is the range of the delivery times?\n"
      ],
      "metadata": {
        "id": "OL3mGUmn3kw9"
      }
    },
    {
      "cell_type": "code",
      "source": [
        "data1 = np.array([3, 5, 2, 4, 6, 2, 3, 4, 2, 5, 7, 2, 3, 4, 2, 4, 2, 3, 5, 6, 3, 2, 1, 4, 2, 4, 5, 3, 2, 7, 2, 3, 4, 5, 1, 6, 2, 4, 3, 5, 3, 2, 4, 2, 6, 3, 2, 4, 5, 3])\n",
        "rand = data1.max() - data1.min()\n",
        "\n",
        "print(rand)"
      ],
      "metadata": {
        "colab": {
          "base_uri": "https://localhost:8080/"
        },
        "id": "o-Zwp-j83k29",
        "outputId": "3e7e72a0-6e6f-4bdb-af9e-f05f387ffaec"
      },
      "execution_count": 33,
      "outputs": [
        {
          "output_type": "stream",
          "name": "stdout",
          "text": [
            "6\n"
          ]
        }
      ]
    },
    {
      "cell_type": "code",
      "source": [],
      "metadata": {
        "id": "AXda9iji5HZl"
      },
      "execution_count": 33,
      "outputs": []
    },
    {
      "cell_type": "markdown",
      "source": [
        "b. Variance: What is the variance of the delivery times?\n"
      ],
      "metadata": {
        "id": "qaVg6i4z5Qgi"
      }
    },
    {
      "cell_type": "code",
      "source": [
        "np.var(data1,ddof=1)"
      ],
      "metadata": {
        "colab": {
          "base_uri": "https://localhost:8080/"
        },
        "id": "k5nOY0Kp5Xg4",
        "outputId": "3b2547c4-ccca-4791-9735-b2c6ad28416b"
      },
      "execution_count": 34,
      "outputs": [
        {
          "output_type": "execute_result",
          "data": {
            "text/plain": [
              "np.float64(2.336326530612245)"
            ]
          },
          "metadata": {},
          "execution_count": 34
        }
      ]
    },
    {
      "cell_type": "code",
      "source": [],
      "metadata": {
        "id": "HlcOS7pq5mFw"
      },
      "execution_count": 34,
      "outputs": []
    },
    {
      "cell_type": "markdown",
      "source": [
        "\n",
        "c. Standard Deviation: What is the standard deviation of the deliverytimes?"
      ],
      "metadata": {
        "id": "_t4Bz1dI5n_e"
      }
    },
    {
      "cell_type": "code",
      "source": [
        "np.std(data1,ddof=1)"
      ],
      "metadata": {
        "colab": {
          "base_uri": "https://localhost:8080/"
        },
        "id": "OgYNFZy95pYW",
        "outputId": "bd7d1946-eb85-46aa-d9f1-4ac3e3d2b598"
      },
      "execution_count": 36,
      "outputs": [
        {
          "output_type": "execute_result",
          "data": {
            "text/plain": [
              "np.float64(1.528504671439458)"
            ]
          },
          "metadata": {},
          "execution_count": 36
        }
      ]
    },
    {
      "cell_type": "code",
      "source": [],
      "metadata": {
        "id": "ntEieJ5u5soe"
      },
      "execution_count": 9,
      "outputs": []
    },
    {
      "cell_type": "markdown",
      "source": [
        "3. A company wants to analyze the monthly revenue generated by one of its productsto understand its performance and variability. Data: Let's consider the monthly revenue (in thousands of dollars) for the past 12months:\n",
        "\n",
        "$120, $150, $110, $135, $125, $140, $130, $155, $115, $145, $135, $130\n",
        "\n",
        " Questions:\n",
        " a. Measure of Central Tendency: What is the average monthly revenue for\n",
        " the product?\n",
        "\n",
        " b. Measure of Dispersion: What is the range of monthly revenue for the\n",
        " product?\n",
        "\n",
        "\n",
        "By answering these questions, the company can gain insights into the averagerevenue generated by the product and understand the range or variabilityinitsmonthly revenue, which can help with financial planning, forecasting, andevaluating the product's performance.\n"
      ],
      "metadata": {
        "id": "B57iuH9E55uQ"
      }
    },
    {
      "cell_type": "markdown",
      "source": [
        "Questions:\n",
        "\n",
        "a. Measure of Central Tendency: What is the average monthly revenuefor\n",
        "the product?\n"
      ],
      "metadata": {
        "id": "rkXPEtWE5_Ax"
      }
    },
    {
      "cell_type": "code",
      "source": [
        "dollors = np.array([120000, 150000,  110000, 135000,  125000, 140000,  130000, 155000,  115000, 145000,  135000, 130000])\n"
      ],
      "metadata": {
        "id": "1RrNuScv6A7-"
      },
      "execution_count": 10,
      "outputs": []
    },
    {
      "cell_type": "code",
      "source": [
        "np.mean(dollors)"
      ],
      "metadata": {
        "colab": {
          "base_uri": "https://localhost:8080/"
        },
        "id": "WReo7lTu6onU",
        "outputId": "ceb718b7-f328-4227-ff94-8cbcb5bebca7"
      },
      "execution_count": 38,
      "outputs": [
        {
          "output_type": "execute_result",
          "data": {
            "text/plain": [
              "np.float64(132500.0)"
            ]
          },
          "metadata": {},
          "execution_count": 38
        }
      ]
    },
    {
      "cell_type": "code",
      "source": [],
      "metadata": {
        "id": "htdjKtCh6q_-"
      },
      "execution_count": 11,
      "outputs": []
    },
    {
      "cell_type": "markdown",
      "source": [
        "b. Measure of Dispersion: What is the range of monthly revenue for theproduct?"
      ],
      "metadata": {
        "id": "Meh_jLlx6sq6"
      }
    },
    {
      "cell_type": "code",
      "source": [
        "ranges = dollors.max() - dollors.min()\n",
        "print(ranges)"
      ],
      "metadata": {
        "colab": {
          "base_uri": "https://localhost:8080/"
        },
        "id": "KD2HLKkM6wd-",
        "outputId": "e466ff52-f7dc-479d-fdb6-d97ef58668e9"
      },
      "execution_count": 37,
      "outputs": [
        {
          "output_type": "stream",
          "name": "stdout",
          "text": [
            "45000\n"
          ]
        }
      ]
    },
    {
      "cell_type": "code",
      "source": [],
      "metadata": {
        "id": "TDaEzPlK6z3d"
      },
      "execution_count": 12,
      "outputs": []
    },
    {
      "cell_type": "markdown",
      "source": [
        "4. Atransportation company wants to analyze the fuel efficiency of its vehicle fleet to\n",
        " identify any variations across different vehicle models.\n",
        " Data: Let's consider the fuel efficiency (in miles per gallon, mpg) for a sample of 50 vehicles:\n",
        "\n",
        " Model A: 30, 32, 33, 28, 31, 30, 29, 30, 32, 31\n",
        "\n",
        " Model B: 25, 27, 26, 23, 28, 24, 26, 25, 27, 28\n",
        "\n",
        " Model C: 22, 23, 20, 25, 21, 24, 23, 22, 25, 24\n",
        "\n",
        " Model D: 18, 17, 19, 20, 21, 18, 19, 17, 20, 19\n",
        "\n",
        " Model E: 35, 36, 34, 35, 33, 34, 32, 33, 36, 34\n",
        "\n",
        " Questions:\n",
        "\n",
        " a. Measure of Central Tendency: What is the average fuel efficiency for each\n",
        " vehicle model?\n",
        "\n",
        " b. Measure of Dispersion: What is the range of fuel efficiency for each\n",
        " vehicle model?\n",
        "\n",
        " c. Measure of Dispersion: What is the variance of the fuel efficiency for each\n",
        " vehicle model?\n",
        "\n",
        "\n",
        " By answering these questions, the transportation company can gain\n",
        " insights into the average fuel efficiency of different vehicle models,\n",
        " understand the variations or spread in the fuel efficiency, and make\n",
        " informed decisions regarding fleet management, vehicle selection, and fuel\n",
        " consumption optimization"
      ],
      "metadata": {
        "id": "jMeS9jLu9uQz"
      }
    },
    {
      "cell_type": "markdown",
      "source": [
        "Questions:\n",
        "\n",
        "a. Measure of Central Tendency: What is the average fuel efficiency for each vehicle model?\n",
        "\n"
      ],
      "metadata": {
        "id": "0SqstN2b9kFW"
      }
    },
    {
      "cell_type": "code",
      "source": [
        "\n",
        "Models = {\n",
        "    \"Model A\": [30, 32, 33, 28, 31, 30, 29, 30, 32, 31],\n",
        "    \"Model B\": [25, 27, 26, 23, 28, 24, 26, 25, 27, 28],\n",
        "    \"Model C\": [22, 23, 20, 25, 21, 24, 23, 22, 25, 24],\n",
        "    \"Model D\": [18, 17, 19, 20, 21, 18, 19, 17, 20, 19],\n",
        "    \"Model E\": [35, 36, 34, 35, 33, 34, 32, 33, 36, 34],\n",
        "}\n",
        "\n",
        "for model, values in Models.items():\n",
        "    means = np.mean(values)\n",
        "    print(f\"{model} Average fuel efficiency = {means} mpg\")"
      ],
      "metadata": {
        "colab": {
          "base_uri": "https://localhost:8080/"
        },
        "id": "UqhYcjSD9kPL",
        "outputId": "57c776f0-0d33-4831-a7b4-594ac57c2f23"
      },
      "execution_count": 99,
      "outputs": [
        {
          "output_type": "stream",
          "name": "stdout",
          "text": [
            "Model A Average fuel efficiency = 30.6 mpg\n",
            "Model B Average fuel efficiency = 25.9 mpg\n",
            "Model C Average fuel efficiency = 22.9 mpg\n",
            "Model D Average fuel efficiency = 18.8 mpg\n",
            "Model E Average fuel efficiency = 34.2 mpg\n"
          ]
        }
      ]
    },
    {
      "cell_type": "code",
      "source": [],
      "metadata": {
        "id": "EchbwVhP9kVC"
      },
      "execution_count": 13,
      "outputs": []
    },
    {
      "cell_type": "markdown",
      "source": [
        "b. Measure of Dispersion: What is the range of fuel efficiency for each vehicle model?\n"
      ],
      "metadata": {
        "id": "g9mWmfwB9kcV"
      }
    },
    {
      "cell_type": "code",
      "source": [
        "for model,values in Models.items():\n",
        "  range = np.max(values) - np.min(values)\n",
        "  print(f'{model} the range of fuel efficiency is {range}')"
      ],
      "metadata": {
        "colab": {
          "base_uri": "https://localhost:8080/"
        },
        "id": "5_XsDlOP9kfU",
        "outputId": "c7d7aafd-3c2d-414b-f2a7-275798dbc34e"
      },
      "execution_count": 40,
      "outputs": [
        {
          "output_type": "stream",
          "name": "stdout",
          "text": [
            "Model A the range of fuel efficiency is 5\n",
            "Model B the range of fuel efficiency is 5\n",
            "Model C the range of fuel efficiency is 5\n",
            "Model D the range of fuel efficiency is 4\n",
            "Model E the range of fuel efficiency is 4\n"
          ]
        }
      ]
    },
    {
      "cell_type": "code",
      "source": [],
      "metadata": {
        "id": "2u82rh8eJJvP"
      },
      "execution_count": 14,
      "outputs": []
    },
    {
      "cell_type": "markdown",
      "source": [
        "c. Measure of Dispersion: What is the variance of the fuel efficiency for each vehicle model?"
      ],
      "metadata": {
        "id": "QoiQVB-GJKFb"
      }
    },
    {
      "cell_type": "code",
      "source": [
        "import statistics as stat\n",
        "for model,values in Models.items():\n",
        "  vari = np.var(values)\n",
        "  print(f'{model} the variance of fuel efficiency is {(vari)}')"
      ],
      "metadata": {
        "id": "8QmHihm77w82",
        "colab": {
          "base_uri": "https://localhost:8080/"
        },
        "outputId": "4eef2a12-7276-453f-aa7e-0b4147183e6e"
      },
      "execution_count": 98,
      "outputs": [
        {
          "output_type": "stream",
          "name": "stdout",
          "text": [
            "Model A the variance of fuel efficiency is 2.0400000000000005\n",
            "Model B the variance of fuel efficiency is 2.49\n",
            "Model C the variance of fuel efficiency is 2.4899999999999998\n",
            "Model D the variance of fuel efficiency is 1.56\n",
            "Model E the variance of fuel efficiency is 1.5599999999999998\n"
          ]
        }
      ]
    },
    {
      "cell_type": "code",
      "source": [],
      "metadata": {
        "id": "RMxgxJ_89kln"
      },
      "execution_count": 15,
      "outputs": []
    },
    {
      "cell_type": "markdown",
      "source": [
        "5. Amanufacturing company wants to analyze the defect rates of its production line to\n",
        " identify the frequency of different types of defects.\n",
        "\n",
        " Data: Let's consider the types of defects and their corresponding frequencies\n",
        "\n",
        " observed in a sample of 200 products:\n",
        "\n",
        "Defect Type: A, B, C, D, E, F, G\n",
        "\n",
        " Frequency: 30, 40, 20, 10, 45, 25, 30\n",
        "\n",
        " Questions:\n",
        "\n",
        " a. Bar Chart: Create a bar chart to visualize the frequency of different defect\n",
        " types.\n",
        "\n",
        " b. Most Common Defect: Which defect type has the highest frequency?\n",
        "\n",
        " c. Histogram: Create a histogram to represent the defect frequencies.\n",
        "\n",
        " By answering these questions using a bar chart and histogram, the manufacturing\n",
        " company can visually understand the distribution of defect types, identify the\n",
        " most common defect, and prioritize quality control efforts to address the prevalent\n",
        " issues."
      ],
      "metadata": {
        "id": "7CgVHSJX9koj"
      }
    },
    {
      "cell_type": "markdown",
      "source": [
        "Questions:\n",
        "\n",
        "a. Bar Chart: Create a bar chart to visualize the frequency of different defect types."
      ],
      "metadata": {
        "id": "OzHelBQD0hKS"
      }
    },
    {
      "cell_type": "code",
      "source": [
        "\n",
        "defect = ['A',' B', 'C','D', 'E', 'F', 'G']\n",
        "freq = [30, 40, 20, 10, 45, 25, 30]\n",
        "plt.bar(defect,freq,edgecolor='black')\n",
        "plt.xlabel('Defect Types')\n",
        "plt.ylabel('Frequancy')\n",
        "plt.title('The frequancy of differant defect types')"
      ],
      "metadata": {
        "colab": {
          "base_uri": "https://localhost:8080/",
          "height": 489
        },
        "id": "x1NowSBY0i9S",
        "outputId": "23ebbbfe-ea3d-4062-a4a6-94ac9b1f95ce"
      },
      "execution_count": 43,
      "outputs": [
        {
          "output_type": "execute_result",
          "data": {
            "text/plain": [
              "Text(0.5, 1.0, 'The frequancy of differant defect types')"
            ]
          },
          "metadata": {},
          "execution_count": 43
        },
        {
          "output_type": "display_data",
          "data": {
            "text/plain": [
              "<Figure size 640x480 with 1 Axes>"
            ],
            "image/png": "[encoded data removed]"
          },
          "metadata": {}
        }
      ]
    },
    {
      "cell_type": "code",
      "source": [],
      "metadata": {
        "id": "Taqo1Xk-0p5s"
      },
      "execution_count": null,
      "outputs": []
    },
    {
      "cell_type": "markdown",
      "source": [
        "b. Most Common Defect: Which defect type has the highest frequency?"
      ],
      "metadata": {
        "id": "TLbtpdij0qh8"
      }
    },
    {
      "cell_type": "code",
      "source": [
        "max = np.max(freq)\n",
        "comman = freq.index(max)\n",
        "print(defect[comman])"
      ],
      "metadata": {
        "colab": {
          "base_uri": "https://localhost:8080/"
        },
        "id": "sPfrzhLC0xuF",
        "outputId": "5b6b6a11-421e-4403-b510-5be53fae2049"
      },
      "execution_count": 58,
      "outputs": [
        {
          "output_type": "stream",
          "name": "stdout",
          "text": [
            "E\n"
          ]
        }
      ]
    },
    {
      "cell_type": "code",
      "source": [],
      "metadata": {
        "id": "TGDv6xV92XHH"
      },
      "execution_count": null,
      "outputs": []
    },
    {
      "cell_type": "markdown",
      "source": [
        "c. Histogram: Create a histogram to represent the defect frequencies."
      ],
      "metadata": {
        "id": "Iedr07cF1Awm"
      }
    },
    {
      "cell_type": "code",
      "source": [
        "data = [30, 40, 20, 10, 45, 25, 30]\n",
        "plt.hist(data,bins=8,edgecolor='black',color='orange')\n",
        "plt.title('The Defect Frequencies')\n",
        "plt.xlabel('Frequencies')\n",
        "plt.show()"
      ],
      "metadata": {
        "colab": {
          "base_uri": "https://localhost:8080/",
          "height": 472
        },
        "id": "g-S-Gp591IDf",
        "outputId": "dfa2dba3-43bb-44de-cd4b-449fcd3f5f45"
      },
      "execution_count": 48,
      "outputs": [
        {
          "output_type": "display_data",
          "data": {
            "text/plain": [
              "<Figure size 640x480 with 1 Axes>"
            ],
            "image/png": "[encoded data removed]"
          },
          "metadata": {}
        }
      ]
    },
    {
      "cell_type": "code",
      "source": [],
      "metadata": {
        "id": "VarCGeCE1IJO"
      },
      "execution_count": null,
      "outputs": []
    },
    {
      "cell_type": "markdown",
      "source": [
        "6.Asurvey was conducted to analyze the satisfaction ratings of customers on a scaleof 1 to 5 for a specific product.\n",
        "\n",
        " Data: Let's consider the satisfaction ratings from 200 customers:\n",
        " Ratings:\n",
        " 4, 5, 3, 4, 4, 3, 2, 5, 4, 3, 5, 4, 2, 3, 4, 5, 3, 4, 5, 3, 4, 3, 2, 4, 5, 3, 4, 5, 4, 3, 3, 4, 5,\n",
        " 2, 3, 4, 4, 3, 5, 4, 3, 4, 5, 4, 2, 3, 4, 5, 3, 4, 5, 4, 3, 4, 5, 3, 4, 5, 4, 3, 3, 4, 5, 2, 3, 4,\n",
        " 4, 3, 5, 4, 3, 4, 5, 4, 2, 3, 4, 5, 3, 4, 5, 4, 3, 4, 5, 3, 4, 5, 4, 3, 3, 4, 5, 2, 3, 4, 4, 3, 5,\n",
        " 4\n",
        "\n",
        " Questions:\n",
        "\n",
        " a. Skewness: Calculate the skewness of the satisfaction ratings.\n",
        "\n",
        " b. Kurtosis: Calculate the kurtosis of the satisfaction ratings.\n",
        "\n",
        " c. Interpretation: Based on the skewness and kurtosis values, what can be\n",
        " inferred about the satisfaction ratings distribution?\n",
        "\n",
        " By answering these questions using measures of skewness and kurtosis, the\n",
        " survey can assess the skewness and peakedness of the satisfaction ratings,\n",
        " determine if the ratings are skewed towards positive or negative evaluations, and understand the distribution characteristics of customer satisfaction."
      ],
      "metadata": {
        "id": "LvxTlzok9kri"
      }
    },
    {
      "cell_type": "markdown",
      "source": [
        " Questions:\n",
        "\n",
        " a. Skewness: Calculate the skewness of the satisfaction ratings."
      ],
      "metadata": {
        "id": "MZuLmzTz4nZu"
      }
    },
    {
      "cell_type": "code",
      "source": [
        "ratings = np.array([4, 5, 3, 4, 4, 3, 2, 5, 4, 3, 5, 4, 2, 3, 4, 5, 3, 4, 5, 3, 4, 3, 2, 4, 5, 3, 4, 5, 4, 3, 3, 4, 5, 2, 3, 4, 4, 3, 5, 4, 3, 4, 5, 4, 2, 3, 4, 5, 3, 4, 5, 4, 3, 4, 5, 3, 4, 5, 4, 3, 3, 4, 5, 2, 3, 4, 4, 3, 5, 4, 3, 4, 5, 4, 2, 3, 4, 5, 3, 4, 5, 4, 3, 4, 5, 3, 4, 5, 4, 3, 3, 4, 5, 2, 3, 4, 4, 3, 5, 4])"
      ],
      "metadata": {
        "id": "w4BylKoZ9kuP"
      },
      "execution_count": 16,
      "outputs": []
    },
    {
      "cell_type": "code",
      "source": [
        "from scipy.stats import skew\n",
        "skew_v = skew(ratings)\n",
        "print(skew_v)"
      ],
      "metadata": {
        "id": "E-7yiXhn9kxG",
        "colab": {
          "base_uri": "https://localhost:8080/"
        },
        "outputId": "3e793712-d460-441d-94ec-cacae57ecc0c"
      },
      "execution_count": 62,
      "outputs": [
        {
          "output_type": "stream",
          "name": "stdout",
          "text": [
            "-0.20773281879682218\n"
          ]
        }
      ]
    },
    {
      "cell_type": "code",
      "source": [],
      "metadata": {
        "id": "SNJZeciw9kzo"
      },
      "execution_count": 17,
      "outputs": []
    },
    {
      "cell_type": "markdown",
      "source": [
        " b. Kurtosis: Calculate the kurtosis of the satisfaction ratings."
      ],
      "metadata": {
        "id": "NcEy9guu4uE-"
      }
    },
    {
      "cell_type": "code",
      "source": [
        "from scipy.stats import kurtosis\n",
        "kurt_v = kurtosis(ratings)\n",
        "print(kurt_v)"
      ],
      "metadata": {
        "id": "GbYYItD79k2o",
        "colab": {
          "base_uri": "https://localhost:8080/"
        },
        "outputId": "8975b20f-a5fc-4315-e695-976ebc464fa9"
      },
      "execution_count": 63,
      "outputs": [
        {
          "output_type": "stream",
          "name": "stdout",
          "text": [
            "-0.767917404014467\n"
          ]
        }
      ]
    },
    {
      "cell_type": "code",
      "source": [],
      "metadata": {
        "id": "-uu6oS4dZXk7"
      },
      "execution_count": 20,
      "outputs": []
    },
    {
      "cell_type": "markdown",
      "source": [
        " c. Interpretation: Based on the skewness and kurtosis values, what can be\n",
        " inferred about the satisfaction ratings distribution?"
      ],
      "metadata": {
        "id": "XRKPlcxm42pf"
      }
    },
    {
      "cell_type": "code",
      "source": [
        "if skew_v > 0:\n",
        "    print('positively skewed')\n",
        "elif skew_v < 0:\n",
        "    print('negatively skewed')\n",
        "else:\n",
        "    print('symmetric')\n",
        "\n",
        "if kurt_v > 0:\n",
        "    print('peaked distribution')\n",
        "elif kurt_v < 0:\n",
        "    print('flat distribution')\n",
        "else:\n",
        "    print('normal distribution')"
      ],
      "metadata": {
        "colab": {
          "base_uri": "https://localhost:8080/"
        },
        "id": "hB-J35N24_mg",
        "outputId": "2025006f-c102-4e86-f31d-165ea423f172"
      },
      "execution_count": 68,
      "outputs": [
        {
          "output_type": "stream",
          "name": "stdout",
          "text": [
            "negatively skewed\n",
            "flat distribution\n"
          ]
        }
      ]
    },
    {
      "cell_type": "code",
      "source": [],
      "metadata": {
        "id": "Tm5Dephk4_yY"
      },
      "execution_count": null,
      "outputs": []
    },
    {
      "cell_type": "markdown",
      "source": [
        "7.Aresearch study wants to analyze the weight distribution of a sample of\n",
        " individuals to assess their health and body composition.\n",
        "\n",
        " Data: Let's consider the weights (in kilograms) of a sample of 100 individuals:\n",
        "\n",
        " Weights:\n",
        " 55, 60, 62, 65, 68, 70, 72, 75, 78, 80, 82, 85, 88, 90, 92, 95, 100, 105, 110, 115,\n",
        " 120, 125, 130, 135, 140, 145, 150, 155, 160, 165, 170, 175, 180, 185, 190, 195,\n",
        " 200, 205, 210, 215, 220, 225, 230, 235, 240, 245, 250, 255, 260, 265, 270, 275,\n",
        " 280, 285, 290, 295, 300, 305, 310, 315, 320, 325, 330, 335, 340, 345, 350, 355,\n",
        " 360, 365, 370, 375, 380, 385, 390, 395, 400, 405, 410, 415, 420, 425, 430, 435,\n",
        " 440, 445, 450, 455, 460, 465, 470, 475, 480, 485, 490, 495, 500, 505, 510, 515\n",
        "\n",
        "  Questions:\n",
        " a. Quartiles: Calculate the first quartile (Q1), median (Q2), and third quartile\n",
        " (Q3) of the weight distribution.\n",
        "\n",
        " b. Percentiles: Calculate the 15th percentile, 50th percentile, and 85th\n",
        " percentile of the weight distribution.\n",
        "\n",
        " c. Interpretation: Based on the quartiles and percentiles, what can be inferred\n",
        " about the weight distribution of the individuals?\n",
        "\n",
        " By answering these questions using quartiles and percentiles, the research study\n",
        " can understand the weight distribution and identify the weight ranges at different\n",
        " percentiles, such as underweight, normal weight, overweight, and obese\n",
        " categories. This information"
      ],
      "metadata": {
        "id": "mBkyvA13alit"
      }
    },
    {
      "cell_type": "markdown",
      "source": [
        "\n",
        " Questions:\n",
        "\n",
        " a. Quartiles: Calculate the first quartile (Q1), median (Q2), and third quartile\n",
        " (Q3) of the weight distribution."
      ],
      "metadata": {
        "id": "KAZ2ekbg-HTi"
      }
    },
    {
      "cell_type": "code",
      "source": [
        "data2 = [55, 60, 62, 65, 68, 70, 72, 75, 78, 80, 82, 85, 88, 90, 92, 95, 100, 105, 110, 115, 120, 125, 130, 135, 140, 145, 150, 155, 160, 165, 170, 175, 180, 185, 190, 195, 200, 205, 210, 215, 220, 225, 230, 235, 240, 245, 250, 255, 260, 265, 270, 275, 280, 285, 290, 295, 300, 305, 310, 315, 320, 325, 330, 335, 340, 345, 350, 355, 360, 365, 370, 375, 380, 385, 390, 395, 400, 405, 410, 415, 420, 425, 430, 435, 440, 445, 450, 455, 460, 465, 470, 475, 480, 485, 490, 495, 500, 505, 510, 515]"
      ],
      "metadata": {
        "id": "hqetDvusaloy"
      },
      "execution_count": 21,
      "outputs": []
    },
    {
      "cell_type": "code",
      "source": [
        "print('First_quantile',np.quantile(data,0.25))\n",
        "print('Second_quartile',np.quantile(data,0.5))\n",
        "print('Third_quantile',np.quantile(data,0.75))"
      ],
      "metadata": {
        "colab": {
          "base_uri": "https://localhost:8080/"
        },
        "id": "3nh0cKS9aluQ",
        "outputId": "b6178084-55ae-4bff-fd80-dc2036165af6"
      },
      "execution_count": 70,
      "outputs": [
        {
          "output_type": "stream",
          "name": "stdout",
          "text": [
            "First_quantile 22.5\n",
            "Second_quartile 30.0\n",
            "Third_quantile 35.0\n"
          ]
        }
      ]
    },
    {
      "cell_type": "code",
      "source": [],
      "metadata": {
        "id": "CQgcRENa-NDr"
      },
      "execution_count": null,
      "outputs": []
    },
    {
      "cell_type": "markdown",
      "source": [
        "\n",
        " b. Percentiles: Calculate the 15th percentile, 50th percentile, and 85th\n",
        " percentile of the weight distribution.\n"
      ],
      "metadata": {
        "id": "maS9fSwb-N1M"
      }
    },
    {
      "cell_type": "code",
      "source": [
        "print('15th_Percentile',np.percentile(data,15))\n",
        "print('50th_Percentile',np.percentile(data,50))\n",
        "print('85th_Percentile',np.percentile(data,85))"
      ],
      "metadata": {
        "colab": {
          "base_uri": "https://localhost:8080/"
        },
        "id": "tw42nk3Nal0_",
        "outputId": "3df28fa0-fd9d-4a85-a8f8-4424e23fc607"
      },
      "execution_count": 23,
      "outputs": [
        {
          "output_type": "stream",
          "name": "stdout",
          "text": [
            "15th_Percentile 94.55\n",
            "50th_Percentile 267.5\n",
            "85th_Percentile 440.74999999999994\n"
          ]
        }
      ]
    },
    {
      "cell_type": "code",
      "source": [],
      "metadata": {
        "id": "JtcwtOMAb9b2"
      },
      "execution_count": 23,
      "outputs": []
    },
    {
      "cell_type": "markdown",
      "source": [
        " c. Interpretation: Based on the quartiles and percentiles, what can be inferred\n",
        " about the weight distribution of the individuals?"
      ],
      "metadata": {
        "id": "PhE77hEu-TyD"
      }
    },
    {
      "cell_type": "markdown",
      "source": [
        "--> The weight distribution is fairly uniform and increases Continuously.\n",
        "\n",
        "--> Q1, median, and Q3 show the middle 50% of weights are spread across a range,and the 15th and 85th percentiles indicate the spread of the lighter and heavier individuals."
      ],
      "metadata": {
        "id": "k8LCK61G-UxD"
      }
    },
    {
      "cell_type": "code",
      "source": [],
      "metadata": {
        "id": "QFs0OrcT-rxn"
      },
      "execution_count": null,
      "outputs": []
    },
    {
      "cell_type": "markdown",
      "source": [
        "8. Aresearcher wants to examine the relationship between the hours spent studying\n",
        " and the exam scores of a group of students.\n",
        "\n",
        " Data: Let's consider the number of hours spent studying and the corresponding\n",
        " exam scores for a sample of 30 students:\n",
        "\n",
        " Hours Spent Studying: 10, 12, 15, 18, 20, 22, 25, 28, 30, 32, 35, 38, 40, 42, 45, 48,\n",
        " 50, 52, 55, 58, 60, 62, 65, 68, 70, 72, 75, 78, 80, 82\n",
        "\n",
        " Exam Scores: 60, 65, 70, 75,\n",
        " 80, 82, 85, 88, 90, 92, 93, 95, 96, 97, 98, 99, 100, 102, 105, 106, 107, 108, 110,\n",
        " 112, 114, 115, 116, 118, 120, 122\n",
        "\n",
        " Question:\n",
        "Calculate the correlation coefficient between the hours spent studying and the\n",
        " exam scores. Interpret the value of the correlation coefficient and explain the\n",
        " nature of the relationship between studying hours and exam scores"
      ],
      "metadata": {
        "id": "FceBD_I9Rj7J"
      }
    },
    {
      "cell_type": "code",
      "source": [
        "hours = np.array([10, 12, 15, 18, 20, 22, 25, 28, 30, 32, 35, 38, 40, 42, 45, 48, 50, 52, 55, 58, 60, 62, 65, 68, 70, 72, 75, 78, 80, 82])\n",
        "score = np.array([60, 65, 70, 75, 80, 82, 85, 88, 90, 92, 93, 95, 96, 97, 98, 99, 100, 102, 105, 106, 107, 108, 110, 112, 114, 115, 116, 118, 120, 122])\n",
        "\n"
      ],
      "metadata": {
        "id": "5Aq5_EvVRkAh"
      },
      "execution_count": 24,
      "outputs": []
    },
    {
      "cell_type": "code",
      "source": [
        "co_relation = np.corrcoef(hours,score)\n",
        "print(co_relation[0,1])"
      ],
      "metadata": {
        "colab": {
          "base_uri": "https://localhost:8080/"
        },
        "id": "N5o5IZnuRkFN",
        "outputId": "8f664c53-d60e-42c4-d82b-7def2f3e9605"
      },
      "execution_count": 25,
      "outputs": [
        {
          "output_type": "stream",
          "name": "stdout",
          "text": [
            "0.9772950830186736\n"
          ]
        }
      ]
    },
    {
      "cell_type": "code",
      "source": [],
      "metadata": {
        "id": "rpPrhNxHRkN4"
      },
      "execution_count": 25,
      "outputs": []
    },
    {
      "cell_type": "markdown",
      "source": [
        "9. Amultiple-choice test consists of 10 questions, each with four possible answers. If a\n",
        " student randomly guesses on each question, what is the probability of getting at least\n",
        " 8 questions correct? Data: Number of questions (n) = 10, Number of possible\n",
        " answers per question (k) = 4."
      ],
      "metadata": {
        "id": "lsXX02A8RkRp"
      }
    },
    {
      "cell_type": "code",
      "source": [
        "from scipy.stats import binom\n",
        "n = 10\n",
        "p = 0.25\n",
        "\n",
        "prob = binom.sf(7, n, p)\n",
        "print(prob)\n"
      ],
      "metadata": {
        "id": "lEzdBv4eThEo",
        "colab": {
          "base_uri": "https://localhost:8080/"
        },
        "outputId": "fe7296df-31e2-4fc6-c5b6-7c5da47d9b4c"
      },
      "execution_count": 71,
      "outputs": [
        {
          "output_type": "stream",
          "name": "stdout",
          "text": [
            "0.000415802001953125\n"
          ]
        }
      ]
    },
    {
      "cell_type": "code",
      "source": [],
      "metadata": {
        "id": "xg7EvT56_zHm"
      },
      "execution_count": null,
      "outputs": []
    },
    {
      "cell_type": "markdown",
      "source": [
        "10. The lifetimes of a certain brand of light bulbs are normally distributed with a mean\n",
        " of 1000 hours and a standard deviation of 100 hours. What is the probability that a\n",
        " randomly selected light bulb lasts between 900 and 1100 hours? Data: Mean lifetime\n",
        " (μ) = 1000 hours, Standard deviation (σ) = 100 hours, Lifetime range (lower limit x1,\n",
        " upper limit x2)\n",
        ""
      ],
      "metadata": {
        "id": "sLjJlDvp_-Kf"
      }
    },
    {
      "cell_type": "code",
      "source": [
        "from scipy.stats import norm\n",
        "mu = 1000\n",
        "sigma = 100\n",
        "x1 = 900\n",
        "x2 = 1100\n",
        "\n",
        "z1 = (x1 - mu) / sigma\n",
        "z2 = (x2 - mu) / sigma\n",
        "\n",
        "p1 = norm.cdf(z1)\n",
        "p2 = norm.cdf(z2)\n",
        "\n",
        "prob = p2 - p1\n",
        "print(prob)"
      ],
      "metadata": {
        "colab": {
          "base_uri": "https://localhost:8080/"
        },
        "id": "N4-Ql6KIAEPo",
        "outputId": "e1cb6746-db50-4870-b2a3-b343429e2bbf"
      },
      "execution_count": 72,
      "outputs": [
        {
          "output_type": "stream",
          "name": "stdout",
          "text": [
            "0.6826894921370859\n"
          ]
        }
      ]
    },
    {
      "cell_type": "code",
      "source": [],
      "metadata": {
        "id": "4vUMrrG0A2Is"
      },
      "execution_count": null,
      "outputs": []
    },
    {
      "cell_type": "markdown",
      "source": [
        "11. A study is conducted to estimate the mean height of a population. A random sample\n",
        " of 100 individuals is selected, and their heights are measured. Calculate a 95%\n",
        " confidence interval for the population mean height, given that the sample mean\n",
        " height is 170 cm and the sample standard deviation is 8 cm. Data: Sample size (n) =\n",
        " 100, Sample mean (x̄) = 170 cm, Sample standard deviation (s) = 8 cm, Confidence\n",
        " level = 95%\n",
        "\n",
        " Explanation: In this problem, we use a sample to estimate the population mean\n",
        " height. By calculating a confidence interval, we provide a range of plausible\n",
        " values for the population mean. The 95% confidence level indicates that we are\n",
        " 95% confident that the true population mean height falls within the calculated\n",
        " interval"
      ],
      "metadata": {
        "id": "5pjvUdb6A5Ct"
      }
    },
    {
      "cell_type": "code",
      "source": [
        "from scipy.stats import norm\n",
        "\n",
        "x_bar = 170\n",
        "s = 8\n",
        "n = 100\n",
        "confi = 0.95\n",
        "\n",
        "z = norm.ppf((1 + confi) / 2)\n",
        "\n",
        "me = s / np.sqrt(n)\n",
        "\n",
        "margin_error = z * me\n",
        "\n",
        "ci_low = x_bar - margin_error\n",
        "ci_up = x_bar + margin_error\n",
        "\n",
        "print(ci_low,ci_up)\n",
        "\n"
      ],
      "metadata": {
        "colab": {
          "base_uri": "https://localhost:8080/"
        },
        "id": "m0kcFig9A5Kd",
        "outputId": "62546db9-515d-4534-c6e2-cf7c474dd4e3"
      },
      "execution_count": 78,
      "outputs": [
        {
          "output_type": "stream",
          "name": "stdout",
          "text": [
            "168.43202881236795 171.56797118763205\n"
          ]
        }
      ]
    },
    {
      "cell_type": "code",
      "source": [],
      "metadata": {
        "id": "2g3GZLW9BdpR"
      },
      "execution_count": null,
      "outputs": []
    },
    {
      "cell_type": "markdown",
      "source": [
        " 12. A manufacturing company claims that the average weight of its product is 500\n",
        " grams. To test this claim, a random sample of 25 products is selected, and their\n",
        " weights are measured. The sample mean weight is found to be 510 grams with a\n",
        " sample standard deviation of 20 grams. Perform a hypothesis test to determine if\n",
        " there is evidence to support the company's claim. Data: Sample size (n) = 25,\n",
        " Sample mean (x̄) = 510 grams, Sample standard deviation (s) = 20 grams,\n",
        " Population mean (μ) = 500 grams\n",
        "\n",
        "Explanation: In this problem, we are conducting a hypothesis test to assess\n",
        " whether the sample mean weight provides evidence to support the company's\n",
        " claim about the population mean weight. The null hypothesis (H0) assumes that\n",
        " the population mean weight is equal to the claimed value, while the alternative\n",
        " hypothesis (Ha) suggests otherwise"
      ],
      "metadata": {
        "id": "1RmJZabdCStf"
      }
    },
    {
      "cell_type": "code",
      "source": [
        "from scipy.stats import t\n",
        "n = 25\n",
        "x_bar = 510\n",
        "s = 20\n",
        "mu = 500\n",
        "alpha = 0.05\n",
        "\n",
        "a = x_bar - mu\n",
        "b = s / (n**0.5)\n",
        "\n",
        "t_stat = a / b\n",
        "\n",
        "df = n - 1\n",
        "\n",
        "p_value = 2 * t.sf((t_stat), df)\n",
        "\n",
        "print(f\"t-stats {t_stat}\")\n",
        "print(f\"p-value {p_value}\")\n",
        "\n",
        "if p_value < alpha:\n",
        "    print('Reject the null hypothesis')\n",
        "else:\n",
        "    print('Fail to reject the null hypothesis')\n"
      ],
      "metadata": {
        "colab": {
          "base_uri": "https://localhost:8080/"
        },
        "id": "3ztnnHInCbe4",
        "outputId": "c631f2b5-9702-42e6-ff35-413d2ddb9b8c"
      },
      "execution_count": 82,
      "outputs": [
        {
          "output_type": "stream",
          "name": "stdout",
          "text": [
            "t-stats 2.5\n",
            "p-value 0.019654175116578753\n",
            "Reject the null hypothesis\n"
          ]
        }
      ]
    },
    {
      "cell_type": "code",
      "source": [],
      "metadata": {
        "id": "UaA6eK47DE69"
      },
      "execution_count": null,
      "outputs": []
    },
    {
      "cell_type": "markdown",
      "source": [
        " 13.A researcher wants to test whether a new teaching method improves student\n",
        " performance. A random sample of 50 students is divided into two groups: one group\n",
        " taught using the new method and the other using the traditional method. The average\n",
        " test scores of the two groups are compared. State the null and alternative hypotheses\n",
        " for this study. Data: Sample size (n) = 50, Test scores of the two groups\n",
        "\n",
        " Explanation: In this problem, we are interested in comparing the means of two\n",
        " groups (new method vs. traditional method). The null hypothesis (H0) states that\n",
        " there is no significant difference between the means, while the alternative\n",
        " hypothesis (Ha) suggests that there is a significant difference"
      ],
      "metadata": {
        "id": "ZitJZW4TD3bx"
      }
    },
    {
      "cell_type": "markdown",
      "source": [
        "Answer:-\n",
        "\n",
        "--> Null hypothesis is the new teaching method does not improve student performance.\n",
        "\n",
        "--> Alternative hypothesis is the new teaching method does improve student performance."
      ],
      "metadata": {
        "id": "J9CfshnCD97C"
      }
    },
    {
      "cell_type": "code",
      "source": [],
      "metadata": {
        "id": "tu4QzPSQEwxG"
      },
      "execution_count": null,
      "outputs": []
    },
    {
      "cell_type": "markdown",
      "source": [
        " 14. A survey is conducted to estimate the proportion of people in a city who support a\n",
        " particular policy. A random sample of 500 individuals is surveyed, and 320 of them\n",
        " express support for the policy. Calculate a 90% confidence interval for the\n",
        " population proportion, given the sample proportion. Data: Sample size (n) = 500,\n",
        " Number of successes (x) = 320, Confidence level = 90%\n",
        "\n",
        " Explanation: In this problem, we aim to estimate the population proportion based\n",
        " on the sample proportion. By constructing a confidence interval, we provide a\n",
        " range of plausible values for the population proportion. The 90% confidence level\n",
        " indicates that we are 90% confident that the true population proportion falls\n",
        " within the calculated interval."
      ],
      "metadata": {
        "id": "wlsNUuvoE7nJ"
      }
    },
    {
      "cell_type": "code",
      "source": [
        "\n",
        "\n",
        "n = 500\n",
        "x = 320\n",
        "p = x / n\n",
        "\n",
        "z = stats.norm.ppf(0.95)\n",
        "se = np.sqrt(p * (1 - p) / n)\n",
        "\n",
        "ci_lower = p - z * se\n",
        "ci_upper = p + z * se\n",
        "\n",
        "print(ci_lower,ci_upper)\n"
      ],
      "metadata": {
        "colab": {
          "base_uri": "https://localhost:8080/"
        },
        "id": "u3RrXwJYFBT5",
        "outputId": "f33f851f-48b1-4d1b-a962-f46bad0d1ea7"
      },
      "execution_count": 85,
      "outputs": [
        {
          "output_type": "stream",
          "name": "stdout",
          "text": [
            "0.6046911565801545 0.6753088434198455\n"
          ]
        }
      ]
    },
    {
      "cell_type": "code",
      "source": [],
      "metadata": {
        "id": "yddX56wIFSJL"
      },
      "execution_count": null,
      "outputs": []
    },
    {
      "cell_type": "markdown",
      "source": [
        " 15. A company sells smartphones, and the number of defects per batch follows a\n",
        " Poisson distribution with a mean of 2 defects. What is the probability of having\n",
        " exactly 3 defects in a randomly selected batch? Data: Mean number of defects (λ) =\n",
        " 2, Number of defects (x) = 3\n",
        "\n",
        " Explanation: The problem involves a discrete distribution (Poisson) because we\n",
        " are dealing with the count of defects in a batch of smartphones. The Poisson\n",
        "distribution models the probability of a given number of events occurring within a\n",
        " fixed interval of time or space."
      ],
      "metadata": {
        "id": "dd9hvwsPFYDs"
      }
    },
    {
      "cell_type": "code",
      "source": [
        "from scipy.stats import poisson\n",
        "\n",
        "lam = 2\n",
        "x = 3\n",
        "\n",
        "prob = poisson.pmf(x, lam)\n",
        "print(prob)\n"
      ],
      "metadata": {
        "colab": {
          "base_uri": "https://localhost:8080/"
        },
        "id": "-RaD5YCmFesE",
        "outputId": "a10b7eeb-34d4-4a82-bdd0-ecdc3d3481a7"
      },
      "execution_count": 87,
      "outputs": [
        {
          "output_type": "stream",
          "name": "stdout",
          "text": [
            "0.18044704431548356\n"
          ]
        }
      ]
    },
    {
      "cell_type": "code",
      "source": [],
      "metadata": {
        "id": "DcAZ3AXhFjoE"
      },
      "execution_count": null,
      "outputs": []
    }
  ]
}