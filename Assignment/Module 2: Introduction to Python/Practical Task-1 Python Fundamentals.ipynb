{
 "cells": [
  {
   "cell_type": "code",
   "execution_count": null,
   "id": "159d8fe1-aef9-4a01-88b5-f287f9bdee33",
   "metadata": {},
   "outputs": [],
   "source": [
    "# 1. Write a python program to sum of the first n positive integers.\n",
    "\n",
    "n = int(input('Enter a positive number'))\n",
    "\n",
    "t = 0\n",
    "\n",
    "for i in range(1,n+1):\n",
    "    t+=i\n",
    "\n",
    "print(\"the sum is\",t)"
   ]
  },
  {
   "cell_type": "code",
   "execution_count": 3,
   "id": "a9bc5bc1-336d-4072-8891-663436381e51",
   "metadata": {},
   "outputs": [
    {
     "name": "stdin",
     "output_type": "stream",
     "text": [
      "enter the string 1 hello world\n",
      "enter the string 2 hello \n"
     ]
    },
    {
     "name": "stdout",
     "output_type": "stream",
     "text": [
      "the substring has appears 1 time in string\n"
     ]
    }
   ],
   "source": [
    "# 2. Write a Python program to count occurrences of a substring in a string.\n",
    "\n",
    "s1 = input('enter the string 1')\n",
    "s2 = input('enter the string 2')\n",
    "\n",
    "c = s1.count(s2)\n",
    "\n",
    "print(f'the substring has appears',c,'time in string')\n",
    "\n"
   ]
  },
  {
   "cell_type": "code",
   "execution_count": 9,
   "id": "85327dc3-6bcd-414b-939c-0d56987812c8",
   "metadata": {},
   "outputs": [
    {
     "name": "stdin",
     "output_type": "stream",
     "text": [
      "Enter a sentence Hello world\n"
     ]
    },
    {
     "name": "stdout",
     "output_type": "stream",
     "text": [
      "Hello = 1\n",
      "world = 1\n"
     ]
    }
   ],
   "source": [
    "# 3. Write a Python program to count the occurrences of each word in a given sentence.\n",
    "\n",
    "sentence = input(\"Enter a sentence\")\n",
    "w = sentence.split()\n",
    "\n",
    "for word in w:\n",
    "    print(word,'=',w.count(word))\n",
    "    \n"
   ]
  },
  {
   "cell_type": "code",
   "execution_count": 6,
   "id": "307d9d54-98ad-42dd-a517-4e7131735441",
   "metadata": {},
   "outputs": [
    {
     "name": "stdin",
     "output_type": "stream",
     "text": [
      "first hello\n",
      "second world\n"
     ]
    },
    {
     "name": "stdout",
     "output_type": "stream",
     "text": [
      "wollo herld\n"
     ]
    }
   ],
   "source": [
    "# 4. Write a Python program to get a single string from two given strings, separated by a space and swap the first two characters of each string.\n",
    "\n",
    "a = input(\"first\")\n",
    "b = input(\"second\")\n",
    "\n",
    "x = b[:2] + a[2:]\n",
    "y = a[:2] + b[2:]\n",
    "\n",
    "print(x,y,sep=\" \")\n"
   ]
  },
  {
   "cell_type": "code",
   "execution_count": 10,
   "id": "cbd29dec-b36f-471c-bd1f-51a58444ec11",
   "metadata": {},
   "outputs": [
    {
     "name": "stdin",
     "output_type": "stream",
     "text": [
      "Enter a word data visuliz\n"
     ]
    },
    {
     "name": "stdout",
     "output_type": "stream",
     "text": [
      "data visulizing\n"
     ]
    }
   ],
   "source": [
    "#5. Write a Python program to add 'ing' at the end of a given string (length shouldbeat least 3). \n",
    "# If the given string already ends with 'ing' then add 'ly' instead If thestring length of the given string is less than 3, leave it unchanged.\n",
    "\n",
    "w = input(\"Enter a word\")\n",
    "\n",
    "if len(w) >= 3:\n",
    "    if w.endswith(\"ing\"):\n",
    "        w = w + \"ly\"\n",
    "    else:\n",
    "        w = w + \"ing\"\n",
    "        \n",
    "print(w)"
   ]
  },
  {
   "cell_type": "code",
   "execution_count": 12,
   "id": "36b28094-5616-4df8-9dac-f0fc9a25b9c3",
   "metadata": {},
   "outputs": [
    {
     "name": "stdin",
     "output_type": "stream",
     "text": [
      " The service is not very good but still poor\n"
     ]
    },
    {
     "name": "stdout",
     "output_type": "stream",
     "text": [
      "The service is good\n"
     ]
    }
   ],
   "source": [
    "# 6. Write a Python program to find the first appearance of the substring 'not' and'poor' from a given string, if 'not' follows the 'poor', replace the whole 'not'...'poor' substring with 'good'. \n",
    "# Return the resulting string\n",
    "\n",
    "sent = input()\n",
    "\n",
    "if 'not' in sent and 'poor' in sent:\n",
    "    n = sent.find('not')\n",
    "    p = sent.find('poor')\n",
    "    if n < p:\n",
    "        sent = sent.replace(sent[n:p+4], 'good')\n",
    "\n",
    "print(sent)\n",
    "\n"
   ]
  },
  {
   "cell_type": "code",
   "execution_count": 15,
   "id": "0d441804-8ed8-4595-b53f-29fbaacd6f84",
   "metadata": {},
   "outputs": [
    {
     "name": "stdin",
     "output_type": "stream",
     "text": [
      " 12\n",
      " 8\n"
     ]
    },
    {
     "name": "stdout",
     "output_type": "stream",
     "text": [
      "GCD is 4\n"
     ]
    }
   ],
   "source": [
    "# 7. Program to find Greatest Common Divisor of two numbers. \n",
    "# For example, theGCD of 20 and 28 is 4 and the GCD of 98 and 56 is 14.\n",
    "\n",
    "num1 = int(input())\n",
    "num2 = int(input())\n",
    "\n",
    "for i in range(min(num1,num2), 0, -1):\n",
    "    if num1 % i == 0 and num2 % i == 0:\n",
    "        print(\"GCD is\", i)\n",
    "        break\n",
    "\n"
   ]
  },
  {
   "cell_type": "code",
   "execution_count": 7,
   "id": "4f2f8ac0-40f9-48ac-b2c9-f8e867f47ae9",
   "metadata": {},
   "outputs": [
    {
     "name": "stdout",
     "output_type": "stream",
     "text": [
      "True\n"
     ]
    }
   ],
   "source": [
    "# 8. Write a Python program to check whether a list contains a sublist.\n",
    "\n",
    "a = [5, 6, 3, 8, 2, 1, 7, 1]\n",
    "b = [8, 2, 1]\n",
    "\n",
    "r = any(a[i:i+len(b)] == b \n",
    "for i in range(len(a) - len(b) + 1))\n",
    "print(r)\n",
    "\n"
   ]
  },
  {
   "cell_type": "code",
   "execution_count": 56,
   "id": "535073b9-2546-47e3-9201-aac3204eef1c",
   "metadata": {},
   "outputs": [
    {
     "name": "stdout",
     "output_type": "stream",
     "text": [
      "second smallest number is 2\n"
     ]
    }
   ],
   "source": [
    "# 9. Write a Python program to find the second smallest number in a list.\n",
    "num = [5,2, 9, 1, 7]\n",
    "\n",
    "uni_num = list(set(num))\n",
    "\n",
    "uni_num.sort()\n",
    "if len(uni_num) >=2:\n",
    "    print(\"second smallest number is\", uni_num[1])\n",
    "else:\n",
    "    print(\"no number found\")\n"
   ]
  },
  {
   "cell_type": "code",
   "execution_count": 52,
   "id": "71d39cca-b722-4f9c-bd99-8ce4c8d109f7",
   "metadata": {},
   "outputs": [
    {
     "name": "stdout",
     "output_type": "stream",
     "text": [
      "unique values [1, 2, 3, 4, 5]\n"
     ]
    }
   ],
   "source": [
    "# 10. Write a Python program to get unique values from a list\n",
    "l1 = [1, 2, 2, 3, 4, 4, 5]\n",
    "\n",
    "values = []\n",
    "for i in l1:\n",
    "    if i not in values:\n",
    "        values.append(i)\n",
    "\n",
    "print(\"unique values\",values)\n"
   ]
  },
  {
   "cell_type": "code",
   "execution_count": 57,
   "id": "93bc94ba-b5ef-4631-a3f7-82fde176777a",
   "metadata": {},
   "outputs": [
    {
     "name": "stdout",
     "output_type": "stream",
     "text": [
      "(1, 2, 3)\n",
      "('a', 'b', 'c')\n"
     ]
    }
   ],
   "source": [
    "# 11. Write a Python program to unzip a list of tuples into individual lists.\n",
    "data = [(1, 'a'), (2, 'b'), (3, 'c')]\n",
    "a, b = zip(*data)\n",
    "print(a)\n",
    "print(b)\n"
   ]
  },
  {
   "cell_type": "code",
   "execution_count": 58,
   "id": "72ceb3f6-bf28-450c-95de-f340a43d007d",
   "metadata": {},
   "outputs": [
    {
     "name": "stdout",
     "output_type": "stream",
     "text": [
      "{'a': 1, 'b': 2, 'c': 3}\n"
     ]
    }
   ],
   "source": [
    "# 12. Write a Python program to convert a list of tuples into a dictionary\n",
    "tuples = [('a', 1), ('b', 2), ('c', 3)]\n",
    "\n",
    "dictionary = dict(tuples)\n",
    "print(dictionary)\n"
   ]
  },
  {
   "cell_type": "code",
   "execution_count": 60,
   "id": "c867b9a9-1c0b-4843-b3da-5559f2b762f5",
   "metadata": {},
   "outputs": [
    {
     "name": "stdout",
     "output_type": "stream",
     "text": [
      "{'banana': 1, 'cherry': 2, 'apple': 3}\n",
      "{'apple': 3, 'cherry': 2, 'banana': 1}\n"
     ]
    }
   ],
   "source": [
    "# 13. Write a Python program to sort a dictionary (ascending /descending) by value.\n",
    "import operator\n",
    "\n",
    "d = {'apple': 3, 'banana': 1, 'cherry': 2}\n",
    "print(dict(sorted(d.items(), key=operator.itemgetter(1))))            \n",
    "print(dict(sorted(d.items(), key=operator.itemgetter(1), reverse=True)))  \n"
   ]
  },
  {
   "cell_type": "code",
   "execution_count": 63,
   "id": "7e7498b8-4d93-4eab-868e-2aac61c27929",
   "metadata": {},
   "outputs": [
    {
     "name": "stdout",
     "output_type": "stream",
     "text": [
      "[400, 300, 200]\n"
     ]
    }
   ],
   "source": [
    "# 14. Write a Python program to find the highest 3 values in a dictionary.\n",
    "d = {'a': 100, 'b': 200, 'c': 300, 'd': 400, 'e': 50}\n",
    "\n",
    "top3 = sorted(d.values(), reverse=True)[:3]\n",
    "print(top3)\n"
   ]
  },
  {
   "cell_type": "code",
   "execution_count": 5,
   "id": "3b2b31c4-8be9-4056-9045-b623080edf60",
   "metadata": {},
   "outputs": [
    {
     "name": "stdout",
     "output_type": "stream",
     "text": [
      "0 1 1 2 3 5 8\n"
     ]
    }
   ],
   "source": [
    "# 15.Given a number n, write a python program to make and print the list of Fibonacci\n",
    "# series up to n. Input : n=7 Hint : first 7 numbers in the series Expected output :\n",
    "# First few Fibonacci numbers are 0, 1, 1, 2, 3, 5, 8, 13\n",
    "\n",
    "n = 7\n",
    "\n",
    "if n <= 0:\n",
    "    print(\"enter positive value\")\n",
    "else:\n",
    "    fib = [0, 1]\n",
    "    for i in range(2, n):\n",
    "        fib.append(fib[i-1] + fib[i-2])\n",
    "    for i in range(n):\n",
    "        if i == n-1:\n",
    "            print(fib[i])\n",
    "        else:\n",
    "            print(fib[i],end=' ')\n",
    "\n"
   ]
  },
  {
   "cell_type": "code",
   "execution_count": 19,
   "id": "f46283c1-84af-4e3c-8bfd-5c4a0565e1cb",
   "metadata": {},
   "outputs": [
    {
     "name": "stdout",
     "output_type": "stream",
     "text": [
      "1 : 5, 2 : 4, 3 : 3, 4 : 3, 5 : 2\n"
     ]
    }
   ],
   "source": [
    "# 16.Counting the frequencies in a list using a dictionary in Python. \n",
    "# Input : [1, 1, 1, 5, 5, 3, 1, 3, 3, 1,4, 4, 4, 2, 2, 2, 2]\n",
    "# Expected output : 1 : 5 , 2 : 4 , 3 : 3 , 4 : 3 , 5 : 2\n",
    "\n",
    "num = [1, 1, 1, 5, 5, 3, 1, 3, 3, 1, 4, 4, 4, 2, 2, 2, 2]\n",
    "\n",
    "freq = {}\n",
    "\n",
    "for n in num:\n",
    "    if n in freq:\n",
    "        freq[n] += 1\n",
    "    else:\n",
    "        freq[n] = 1\n",
    "\n",
    "output = [f\"{key} : {freq[key]}\" for key in sorted(freq)]\n",
    "print(\", \".join(output))\n"
   ]
  },
  {
   "cell_type": "code",
   "execution_count": 33,
   "id": "4f560820-2459-4c32-9550-098a11347e0a",
   "metadata": {},
   "outputs": [
    {
     "name": "stdout",
     "output_type": "stream",
     "text": [
      "2.71827876984127\n",
      "2.718281525573192\n"
     ]
    }
   ],
   "source": [
    "# 17.Write a python program using function to find the sum of odd series and evenseries\n",
    "# Odd series: 12/ 1! +32/ 3! + 52/ 5!+……n\n",
    "# Even series: 22/ 2! + 42/ 4! + 62/ 6!+……n\n",
    "\n",
    "import math\n",
    "\n",
    "def odd_series(n):\n",
    "    total = 0\n",
    "    for i in range(1, 2*n, 2):  \n",
    "        term = (i ** 2) / math.factorial(i)\n",
    "        total += term\n",
    "    return total\n",
    "\n",
    "def even_series(n):\n",
    "    total = 0\n",
    "    for i in range(2, 2*n + 1, 2):  \n",
    "        term = (i ** 2) / math.factorial(i)\n",
    "        total += term\n",
    "    return total\n",
    "\n",
    "print(odd_series(5))\n",
    "print(even_series(5))\n"
   ]
  },
  {
   "cell_type": "code",
   "execution_count": 94,
   "id": "a0774e3d-7926-48d5-9d77-91790dda8613",
   "metadata": {},
   "outputs": [
    {
     "name": "stdout",
     "output_type": "stream",
     "text": [
      "120\n"
     ]
    }
   ],
   "source": [
    "# 18. Python Program to Find Factorial of Number Using Recursion.\n",
    "def fact(n):\n",
    "    if n == 0 or n == 1:\n",
    "        return 1\n",
    "    return n * fact(n - 1)\n",
    "print(fact(5))"
   ]
  },
  {
   "cell_type": "code",
   "execution_count": 97,
   "id": "dd2295d4-4c8e-43b7-9e0b-61bc6b840314",
   "metadata": {},
   "outputs": [
    {
     "name": "stdout",
     "output_type": "stream",
     "text": [
      "[1, 2, 3, 4, 5]\n"
     ]
    }
   ],
   "source": [
    "# 19.Write a Python function that takes a list and returns a new list with unique\n",
    "# elements of the first list.\n",
    "\n",
    "lst =[1, 2, 2, 3, 4, 4, 5]\n",
    "def unique_elements(n):\n",
    "    return list(set(n))\n",
    "\n",
    "print(unique_elements(lst))\n"
   ]
  },
  {
   "cell_type": "code",
   "execution_count": 82,
   "id": "2fa216e4-38ab-4be5-aeb9-b35c967bcc2a",
   "metadata": {},
   "outputs": [
    {
     "name": "stdin",
     "output_type": "stream",
     "text": [
      "Enter password length  5\n"
     ]
    },
    {
     "name": "stdout",
     "output_type": "stream",
     "text": [
      "password v7:E0\n"
     ]
    }
   ],
   "source": [
    "'''20.Mini project :\n",
    "Problem Statement : Password Generator\n",
    "Make a program to generate a strong password using the input given by the user. \n",
    "To generate a password, randomly take some words from the user input andtheninclude numbers, special characters and capital letters to generate the password. \n",
    "Also, keep a check that password length is more than 8 characters. \n",
    "    \n",
    "Note: Include Exception handling wherever required. \n",
    "Also, make a ‘User’ class and store the details like user id, name and password of each user as a tuple.\n",
    "'''\n",
    "#part 1\n",
    "import random\n",
    "import string\n",
    "\n",
    "l = int(input(\"Enter password length \"))\n",
    "chars = string.ascii_letters + string.digits + string.punctuation\n",
    "\n",
    "passw = \"\"\n",
    "for i in range(l):\n",
    "    passw += random.choice(chars)\n",
    "\n",
    "print(\"password\",passw)\n",
    "\n"
   ]
  },
  {
   "cell_type": "code",
   "execution_count": 83,
   "id": "150ffcac-278d-434b-b575-f9dae0507c25",
   "metadata": {},
   "outputs": [
    {
     "name": "stdin",
     "output_type": "stream",
     "text": [
      "enter userID 1\n",
      "enter username New Host\n"
     ]
    },
    {
     "name": "stdout",
     "output_type": "stream",
     "text": [
      "('5', 'New Host', '7ZL7t7?EO5')\n"
     ]
    }
   ],
   "source": [
    "#part 2\n",
    "uid = input(\"enter userID\")\n",
    "name = input(\"enter username\")\n",
    "class User:\n",
    "    def __init__(self, uid, name, password):\n",
    "        self.info = (uid, name, password)\n",
    "print(user.info)\n"
   ]
  },
  {
   "cell_type": "code",
   "execution_count": 86,
   "id": "df593c27-7c7e-4741-94ef-4041585d09a1",
   "metadata": {},
   "outputs": [
    {
     "name": "stdin",
     "output_type": "stream",
     "text": [
      "enter userID 1\n",
      "enter username New Host\n",
      "enter password length 10\n"
     ]
    },
    {
     "name": "stdout",
     "output_type": "stream",
     "text": [
      "user details (user_id, name, password) ('5', 'New Host', '79v/Mu7W?{')\n"
     ]
    }
   ],
   "source": [
    "# integrate \n",
    "import random\n",
    "import string\n",
    "\n",
    "class User:\n",
    "    def __init__(self, uid, name, password):\n",
    "        self.info = (uid, name, password)\n",
    "\n",
    "def passw(length):\n",
    "    chars = string.ascii_letters + string.digits + string.punctuation\n",
    "    password = \"\"\n",
    "    for i in range(length):\n",
    "        password += random.choice(chars)\n",
    "    return password\n",
    "\n",
    "try:\n",
    "    uid = input(\"enter userID\")\n",
    "    name = input(\"enter username\")\n",
    "    l = int(input(\"enter password length\"))\n",
    "    if l <= 0:\n",
    "        raise ValueError(\"password length must be positive\")\n",
    "    if l < 8:\n",
    "        raise ValueError(\"password length at least 8 characters\")\n",
    "except ValueError as e:\n",
    "    print(\"Invalid input:\", e)\n",
    "else:\n",
    "    password = passw(l)\n",
    "    user = User(user_id, name, password)\n",
    "    print(\"user details (user_id, name, password)\", user.info)\n"
   ]
  },
  {
   "cell_type": "code",
   "execution_count": null,
   "id": "5f1b54d4-48d8-435d-9703-b7619389dc17",
   "metadata": {},
   "outputs": [],
   "source": []
  }
 ],
 "metadata": {
  "kernelspec": {
   "display_name": "Python 3 (ipykernel)",
   "language": "python",
   "name": "python3"
  },
  "language_info": {
   "codemirror_mode": {
    "name": "ipython",
    "version": 3
   },
   "file_extension": ".py",
   "mimetype": "text/x-python",
   "name": "python",
   "nbconvert_exporter": "python",
   "pygments_lexer": "ipython3",
   "version": "3.13.3"
  }
 },
 "nbformat": 4,
 "nbformat_minor": 5
}
