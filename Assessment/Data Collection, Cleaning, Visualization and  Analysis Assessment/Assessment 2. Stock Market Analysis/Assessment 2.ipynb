{
  "cells": [
    {
      "cell_type": "markdown",
      "metadata": {
        "id": "axaBQCWEZPDF"
      },
      "source": [
        "# Assessment 2"
      ]
    },
    {
      "cell_type": "code",
      "execution_count": 28,
      "metadata": {
        "colab": {
          "base_uri": "https://localhost:8080/"
        },
        "id": "Zn0vYBv7ZSEj",
        "outputId": "73085cca-78dd-49eb-ed8a-7b89c276b808"
      },
      "outputs": [
        {
          "name": "stdout",
          "output_type": "stream",
          "text": [
            "/usr/local/lib/python3.12/dist-packages/gdown/__main__.py:140: FutureWarning: Option `--id` was deprecated in version 4.3.1 and will be removed in 5.0. You don't need to pass it anymore to use a file ID.\n",
            "  warnings.warn(\n",
            "Downloading...\n",
            "From: https://drive.google.com/uc?id=1znM9w3_lZ6NzGhY4NoznfGBuPm29T_Q5\n",
            "To: /content/stock_market_dataset.csv\n",
            "100% 14.4M/14.4M [00:00<00:00, 32.3MB/s]\n"
          ]
        }
      ],
      "source": [
        "# import dataset from drive\n",
        "!gdown --id 1znM9w3_lZ6NzGhY4NoznfGBuPm29T_Q5"
      ]
    },
    {
      "cell_type": "code",
      "execution_count": 29,
      "metadata": {
        "id": "djGZGaKxZTHr"
      },
      "outputs": [],
      "source": [
        "import numpy as np\n",
        "import pandas as pd\n",
        "import matplotlib.pyplot as plt\n",
        "import seaborn as sns"
      ]
    },
    {
      "cell_type": "code",
      "execution_count": 30,
      "metadata": {
        "id": "91zKtUDhZTYz"
      },
      "outputs": [],
      "source": [
        "# Import Dataset\n",
        "st = pd.read_csv('stock_market_dataset.csv')"
      ]
    },
    {
      "cell_type": "markdown",
      "metadata": {
        "id": "PsqCEb0la_MO"
      },
      "source": [
        "### 1. Are there missing values in the dataset?"
      ]
    },
    {
      "cell_type": "code",
      "execution_count": 31,
      "metadata": {
        "colab": {
          "base_uri": "https://localhost:8080/",
          "height": 649
        },
        "id": "oImMv7NgbTCv",
        "outputId": "074002ce-be96-4ed7-a11c-bf9de90bc42f"
      },
      "outputs": [
        {
          "data": {
            "text/html": [
              "<div>\n",
              "<style scoped>\n",
              "    .dataframe tbody tr th:only-of-type {\n",
              "        vertical-align: middle;\n",
              "    }\n",
              "\n",
              "    .dataframe tbody tr th {\n",
              "        vertical-align: top;\n",
              "    }\n",
              "\n",
              "    .dataframe thead th {\n",
              "        text-align: right;\n",
              "    }\n",
              "</style>\n",
              "<table border=\"1\" class=\"dataframe\">\n",
              "  <thead>\n",
              "    <tr style=\"text-align: right;\">\n",
              "      <th></th>\n",
              "      <th>0</th>\n",
              "    </tr>\n",
              "  </thead>\n",
              "  <tbody>\n",
              "    <tr>\n",
              "      <th>Stock</th>\n",
              "      <td>0</td>\n",
              "    </tr>\n",
              "    <tr>\n",
              "      <th>Date</th>\n",
              "      <td>0</td>\n",
              "    </tr>\n",
              "    <tr>\n",
              "      <th>Open</th>\n",
              "      <td>0</td>\n",
              "    </tr>\n",
              "    <tr>\n",
              "      <th>High</th>\n",
              "      <td>0</td>\n",
              "    </tr>\n",
              "    <tr>\n",
              "      <th>Low</th>\n",
              "      <td>0</td>\n",
              "    </tr>\n",
              "    <tr>\n",
              "      <th>Close</th>\n",
              "      <td>0</td>\n",
              "    </tr>\n",
              "    <tr>\n",
              "      <th>Volume</th>\n",
              "      <td>0</td>\n",
              "    </tr>\n",
              "    <tr>\n",
              "      <th>SMA_10</th>\n",
              "      <td>0</td>\n",
              "    </tr>\n",
              "    <tr>\n",
              "      <th>RSI</th>\n",
              "      <td>0</td>\n",
              "    </tr>\n",
              "    <tr>\n",
              "      <th>MACD</th>\n",
              "      <td>0</td>\n",
              "    </tr>\n",
              "    <tr>\n",
              "      <th>Bollinger_Upper</th>\n",
              "      <td>0</td>\n",
              "    </tr>\n",
              "    <tr>\n",
              "      <th>Bollinger_Lower</th>\n",
              "      <td>0</td>\n",
              "    </tr>\n",
              "    <tr>\n",
              "      <th>GDP_Growth</th>\n",
              "      <td>0</td>\n",
              "    </tr>\n",
              "    <tr>\n",
              "      <th>Inflation_Rate</th>\n",
              "      <td>0</td>\n",
              "    </tr>\n",
              "    <tr>\n",
              "      <th>Interest_Rate</th>\n",
              "      <td>0</td>\n",
              "    </tr>\n",
              "    <tr>\n",
              "      <th>Sentiment_Score</th>\n",
              "      <td>0</td>\n",
              "    </tr>\n",
              "    <tr>\n",
              "      <th>Next_Close</th>\n",
              "      <td>0</td>\n",
              "    </tr>\n",
              "    <tr>\n",
              "      <th>Target</th>\n",
              "      <td>0</td>\n",
              "    </tr>\n",
              "  </tbody>\n",
              "</table>\n",
              "</div><br><label><b>dtype:</b> int64</label>"
            ],
            "text/plain": [
              "Stock              0\n",
              "Date               0\n",
              "Open               0\n",
              "High               0\n",
              "Low                0\n",
              "Close              0\n",
              "Volume             0\n",
              "SMA_10             0\n",
              "RSI                0\n",
              "MACD               0\n",
              "Bollinger_Upper    0\n",
              "Bollinger_Lower    0\n",
              "GDP_Growth         0\n",
              "Inflation_Rate     0\n",
              "Interest_Rate      0\n",
              "Sentiment_Score    0\n",
              "Next_Close         0\n",
              "Target             0\n",
              "dtype: int64"
            ]
          },
          "execution_count": 31,
          "metadata": {},
          "output_type": "execute_result"
        }
      ],
      "source": [
        "st.isnull().sum()"
      ]
    },
    {
      "cell_type": "markdown",
      "metadata": {
        "id": "5MROjqKYb2pq"
      },
      "source": [
        "--> The dataset has no missing values."
      ]
    },
    {
      "cell_type": "code",
      "execution_count": 31,
      "metadata": {
        "id": "p7n0fM-xDes9"
      },
      "outputs": [],
      "source": []
    },
    {
      "cell_type": "markdown",
      "metadata": {
        "id": "Bi7IbuY5bls6"
      },
      "source": [
        "### 2. What is the data type of each column?"
      ]
    },
    {
      "cell_type": "code",
      "execution_count": 32,
      "metadata": {
        "colab": {
          "base_uri": "https://localhost:8080/",
          "height": 649
        },
        "id": "cw5GqnZxb1uK",
        "outputId": "bfe61baa-29fd-411c-e27e-ab3c96a0647c"
      },
      "outputs": [
        {
          "data": {
            "text/html": [
              "<div>\n",
              "<style scoped>\n",
              "    .dataframe tbody tr th:only-of-type {\n",
              "        vertical-align: middle;\n",
              "    }\n",
              "\n",
              "    .dataframe tbody tr th {\n",
              "        vertical-align: top;\n",
              "    }\n",
              "\n",
              "    .dataframe thead th {\n",
              "        text-align: right;\n",
              "    }\n",
              "</style>\n",
              "<table border=\"1\" class=\"dataframe\">\n",
              "  <thead>\n",
              "    <tr style=\"text-align: right;\">\n",
              "      <th></th>\n",
              "      <th>0</th>\n",
              "    </tr>\n",
              "  </thead>\n",
              "  <tbody>\n",
              "    <tr>\n",
              "      <th>Stock</th>\n",
              "      <td>object</td>\n",
              "    </tr>\n",
              "    <tr>\n",
              "      <th>Date</th>\n",
              "      <td>object</td>\n",
              "    </tr>\n",
              "    <tr>\n",
              "      <th>Open</th>\n",
              "      <td>float64</td>\n",
              "    </tr>\n",
              "    <tr>\n",
              "      <th>High</th>\n",
              "      <td>float64</td>\n",
              "    </tr>\n",
              "    <tr>\n",
              "      <th>Low</th>\n",
              "      <td>float64</td>\n",
              "    </tr>\n",
              "    <tr>\n",
              "      <th>Close</th>\n",
              "      <td>float64</td>\n",
              "    </tr>\n",
              "    <tr>\n",
              "      <th>Volume</th>\n",
              "      <td>int64</td>\n",
              "    </tr>\n",
              "    <tr>\n",
              "      <th>SMA_10</th>\n",
              "      <td>float64</td>\n",
              "    </tr>\n",
              "    <tr>\n",
              "      <th>RSI</th>\n",
              "      <td>float64</td>\n",
              "    </tr>\n",
              "    <tr>\n",
              "      <th>MACD</th>\n",
              "      <td>float64</td>\n",
              "    </tr>\n",
              "    <tr>\n",
              "      <th>Bollinger_Upper</th>\n",
              "      <td>float64</td>\n",
              "    </tr>\n",
              "    <tr>\n",
              "      <th>Bollinger_Lower</th>\n",
              "      <td>float64</td>\n",
              "    </tr>\n",
              "    <tr>\n",
              "      <th>GDP_Growth</th>\n",
              "      <td>float64</td>\n",
              "    </tr>\n",
              "    <tr>\n",
              "      <th>Inflation_Rate</th>\n",
              "      <td>float64</td>\n",
              "    </tr>\n",
              "    <tr>\n",
              "      <th>Interest_Rate</th>\n",
              "      <td>float64</td>\n",
              "    </tr>\n",
              "    <tr>\n",
              "      <th>Sentiment_Score</th>\n",
              "      <td>float64</td>\n",
              "    </tr>\n",
              "    <tr>\n",
              "      <th>Next_Close</th>\n",
              "      <td>float64</td>\n",
              "    </tr>\n",
              "    <tr>\n",
              "      <th>Target</th>\n",
              "      <td>int64</td>\n",
              "    </tr>\n",
              "  </tbody>\n",
              "</table>\n",
              "</div><br><label><b>dtype:</b> object</label>"
            ],
            "text/plain": [
              "Stock               object\n",
              "Date                object\n",
              "Open               float64\n",
              "High               float64\n",
              "Low                float64\n",
              "Close              float64\n",
              "Volume               int64\n",
              "SMA_10             float64\n",
              "RSI                float64\n",
              "MACD               float64\n",
              "Bollinger_Upper    float64\n",
              "Bollinger_Lower    float64\n",
              "GDP_Growth         float64\n",
              "Inflation_Rate     float64\n",
              "Interest_Rate      float64\n",
              "Sentiment_Score    float64\n",
              "Next_Close         float64\n",
              "Target               int64\n",
              "dtype: object"
            ]
          },
          "execution_count": 32,
          "metadata": {},
          "output_type": "execute_result"
        }
      ],
      "source": [
        "st.dtypes"
      ]
    },
    {
      "cell_type": "markdown",
      "metadata": {
        "id": "iNIAux02cIFF"
      },
      "source": [
        "--> The Date column is an object\n",
        "\n",
        "--> Most of the other columns, including Open, High, Low, Close, SMA_10, RSI, MACD, Bollinger_Upper, Bollinger_Lower, GDP_Growth, Inflation_Rate, Interest_Rate, Sentiment_Score, and Next_Close, are of type is float\n",
        "\n",
        "--> Volume and Target columns type is int"
      ]
    },
    {
      "cell_type": "code",
      "execution_count": 32,
      "metadata": {
        "id": "RWL-UsDPEFha"
      },
      "outputs": [],
      "source": []
    },
    {
      "cell_type": "markdown",
      "metadata": {
        "id": "ffVV0yMEcUYV"
      },
      "source": [
        "### 3. Convert Date to datetime format."
      ]
    },
    {
      "cell_type": "code",
      "execution_count": 33,
      "metadata": {
        "id": "ydSdJpkacaFv"
      },
      "outputs": [],
      "source": [
        "st['Date'] = pd.to_datetime(st['Date'])"
      ]
    },
    {
      "cell_type": "code",
      "execution_count": 33,
      "metadata": {
        "id": "ki1eXNB1c-Bh"
      },
      "outputs": [],
      "source": []
    },
    {
      "cell_type": "markdown",
      "metadata": {
        "id": "c3FVyhDydL8K"
      },
      "source": [
        "### 4. Check for duplicate rows."
      ]
    },
    {
      "cell_type": "code",
      "execution_count": 34,
      "metadata": {
        "colab": {
          "base_uri": "https://localhost:8080/"
        },
        "id": "5ta02d5bdQ8b",
        "outputId": "4c30efe1-fa30-4e31-c5c6-03c718bbd51a"
      },
      "outputs": [
        {
          "data": {
            "text/plain": [
              "np.int64(0)"
            ]
          },
          "execution_count": 34,
          "metadata": {},
          "output_type": "execute_result"
        }
      ],
      "source": [
        "st.duplicated().sum()"
      ]
    },
    {
      "cell_type": "markdown",
      "metadata": {
        "id": "SEkdH1CAdTTk"
      },
      "source": [
        "--> There are no duplicate rows."
      ]
    },
    {
      "cell_type": "code",
      "execution_count": 34,
      "metadata": {
        "id": "VgKAtMAhEQES"
      },
      "outputs": [],
      "source": []
    },
    {
      "cell_type": "markdown",
      "metadata": {
        "id": "JYmwlUF4d01W"
      },
      "source": [
        "### 5. Check the range of RSI (Relative Strength Index)."
      ]
    },
    {
      "cell_type": "code",
      "execution_count": 35,
      "metadata": {
        "colab": {
          "base_uri": "https://localhost:8080/"
        },
        "id": "OP4l9pKVeErw",
        "outputId": "6fbe358a-f939-4cb5-8670-ec84e522efe5"
      },
      "outputs": [
        {
          "name": "stdout",
          "output_type": "stream",
          "text": [
            "10.000910691042568\n",
            "89.99970361452127\n"
          ]
        }
      ],
      "source": [
        "print(st['RSI'].min())\n",
        "print(st['RSI'].max())\n"
      ]
    },
    {
      "cell_type": "markdown",
      "metadata": {
        "id": "-Te246bjeO46"
      },
      "source": [
        "--> The RSI values range from 10 to 90."
      ]
    },
    {
      "cell_type": "code",
      "execution_count": 35,
      "metadata": {
        "id": "7P8-LJ_XEVEb"
      },
      "outputs": [],
      "source": []
    },
    {
      "cell_type": "markdown",
      "metadata": {
        "id": "fTESK0eNhBwq"
      },
      "source": [
        "### 6.  Verify if Next_Close corresponds to the next day’s Close."
      ]
    },
    {
      "cell_type": "code",
      "execution_count": 36,
      "metadata": {
        "colab": {
          "base_uri": "https://localhost:8080/"
        },
        "id": "MjBRyeeNhILq",
        "outputId": "89b37123-13cd-4991-ed97-88128692556b"
      },
      "outputs": [
        {
          "name": "stdout",
          "output_type": "stream",
          "text": [
            "False\n"
          ]
        }
      ],
      "source": [
        "print((st['Next_Close'] == st.sort_values(['Stock', 'Date']).groupby('Stock')['Close'].shift(-1)).all())\n"
      ]
    },
    {
      "cell_type": "markdown",
      "metadata": {
        "id": "ngiMI8YNEWHL"
      },
      "source": [
        "--> Next_Close does not match the next day’s Close."
      ]
    },
    {
      "cell_type": "code",
      "execution_count": 36,
      "metadata": {
        "id": "wQ4kYZS1EkSM"
      },
      "outputs": [],
      "source": []
    },
    {
      "cell_type": "markdown",
      "metadata": {
        "id": "kOFlks87IfX0"
      },
      "source": [
        "### 7. Check if any column has constant value."
      ]
    },
    {
      "cell_type": "code",
      "execution_count": 37,
      "metadata": {
        "colab": {
          "base_uri": "https://localhost:8080/"
        },
        "id": "wlQEp067hIiK",
        "outputId": "fa131990-ada2-4145-da22-4cb1d5e46767"
      },
      "outputs": [
        {
          "data": {
            "text/plain": [
              "Index([], dtype='object')"
            ]
          },
          "execution_count": 37,
          "metadata": {},
          "output_type": "execute_result"
        }
      ],
      "source": [
        "st.columns[st.nunique() == 1]"
      ]
    },
    {
      "cell_type": "markdown",
      "metadata": {
        "id": "28l58Fu2ElVM"
      },
      "source": [
        "--> No column has a constant value."
      ]
    },
    {
      "cell_type": "code",
      "execution_count": 37,
      "metadata": {
        "id": "NhB_gNWzErD2"
      },
      "outputs": [],
      "source": []
    },
    {
      "cell_type": "markdown",
      "metadata": {
        "id": "22Stb4l5hIop"
      },
      "source": [
        "### 8. Check if 'Target' only has 0s and 1s."
      ]
    },
    {
      "cell_type": "code",
      "execution_count": 38,
      "metadata": {
        "colab": {
          "base_uri": "https://localhost:8080/"
        },
        "id": "ZA5PhWgDOr6H",
        "outputId": "ba150f93-bacd-4ecf-fe32-c9a48de1fb3d"
      },
      "outputs": [
        {
          "name": "stdout",
          "output_type": "stream",
          "text": [
            "True\n"
          ]
        }
      ],
      "source": [
        "print(st['Target'].isin([0,1]).all())"
      ]
    },
    {
      "cell_type": "markdown",
      "metadata": {
        "id": "VGDFgMh7Er3e"
      },
      "source": [
        "--> Target only contains 0s and 1s, which is correct."
      ]
    },
    {
      "cell_type": "code",
      "execution_count": 38,
      "metadata": {
        "id": "9mC4xtKEEy2u"
      },
      "outputs": [],
      "source": []
    },
    {
      "cell_type": "markdown",
      "metadata": {
        "id": "IOj_5LD7PGNW"
      },
      "source": [
        "### 9.  Are there outliers in Volume?"
      ]
    },
    {
      "cell_type": "code",
      "execution_count": 39,
      "metadata": {
        "colab": {
          "base_uri": "https://localhost:8080/"
        },
        "id": "FdHyaPIrTj4B",
        "outputId": "ec6ec6a0-d520-4e43-f921-67d7f4d67a01"
      },
      "outputs": [
        {
          "name": "stdout",
          "output_type": "stream",
          "text": [
            "Minimum Volume -2348817.5\n",
            "Maximum Volume 7437946.5\n"
          ]
        }
      ],
      "source": [
        "Q1 = st['Volume'].quantile(0.25)\n",
        "Q3 = st['Volume'].quantile(0.75)\n",
        "\n",
        "IQR = Q3 - Q1\n",
        "\n",
        "minimum = Q1 - 1.5 * IQR\n",
        "maximum = Q3 + 1.5 * IQR\n",
        "\n",
        "print(f'Minimum Volume {minimum}')\n",
        "print(f'Maximum Volume {maximum}')\n"
      ]
    },
    {
      "cell_type": "markdown",
      "metadata": {
        "id": "jsaRXM-LE1Nu"
      },
      "source": [
        "--> There are outliers in the Volume column."
      ]
    },
    {
      "cell_type": "code",
      "execution_count": 39,
      "metadata": {
        "id": "sVnQT8yyE6u_"
      },
      "outputs": [],
      "source": []
    },
    {
      "cell_type": "markdown",
      "metadata": {
        "id": "E5nEpAOjRXum"
      },
      "source": [
        "### 10. Check Correlation Matrix"
      ]
    },
    {
      "cell_type": "code",
      "execution_count": 40,
      "metadata": {
        "colab": {
          "base_uri": "https://localhost:8080/",
          "height": 741
        },
        "id": "IV9PZoa6oafL",
        "outputId": "d33bd681-18b8-4fc2-a780-5921e9607d84"
      },
      "outputs": [
        {
          "data": {
            "image/png": "[encoded data removed]",
            "text/plain": [
              "<Figure size 1000x800 with 2 Axes>"
            ]
          },
          "metadata": {},
          "output_type": "display_data"
        }
      ],
      "source": [
        "corr_matrix = st.select_dtypes(include='number').corr()\n",
        "\n",
        "plt.figure(figsize=(10,8))\n",
        "sns.heatmap(corr_matrix,annot=True,fmt=\".2f\",cmap=\"coolwarm\",linewidth=0.5,linecolor=\"white\")\n",
        "plt.title(\"Correlation Matrix Heatmap\", fontsize=14)\n",
        "plt.show()\n",
        "\n"
      ]
    },
    {
      "cell_type": "markdown",
      "metadata": {
        "id": "VITYsR4TFAZY"
      },
      "source": [
        "--> The strongest correlations are likely between Close, Open, High, Low, and SMA_10, they are all related to stock prices."
      ]
    },
    {
      "cell_type": "code",
      "execution_count": 40,
      "metadata": {
        "id": "KgDzQDqyFMhJ"
      },
      "outputs": [],
      "source": []
    },
    {
      "cell_type": "markdown",
      "metadata": {
        "id": "rD45MvWpQEJG"
      },
      "source": [
        "### 11. Are there negative values in Close, Open, MACD, etc.?"
      ]
    },
    {
      "cell_type": "code",
      "execution_count": 41,
      "metadata": {
        "colab": {
          "base_uri": "https://localhost:8080/"
        },
        "id": "ipVLzhfLTc_h",
        "outputId": "40deb3a7-a689-4282-a0d7-375ec9a8a488"
      },
      "outputs": [
        {
          "name": "stdout",
          "output_type": "stream",
          "text": [
            "Close    False\n",
            "Open     False\n",
            "MACD      True\n",
            "dtype: bool\n"
          ]
        }
      ],
      "source": [
        "cols = st[['Close','Open','MACD']]\n",
        "print((cols < 0).any())"
      ]
    },
    {
      "cell_type": "markdown",
      "metadata": {
        "id": "9GmFSWseLaaM"
      },
      "source": [
        "--> Close and Open do not have negative values, but MACD does."
      ]
    },
    {
      "cell_type": "code",
      "execution_count": 41,
      "metadata": {
        "id": "yV_7Qs4FLd_c"
      },
      "outputs": [],
      "source": []
    },
    {
      "cell_type": "markdown",
      "metadata": {
        "id": "KOL8EJ5nVqqC"
      },
      "source": [
        "### 12. Check for abrupt spikes in Interest Rate."
      ]
    },
    {
      "cell_type": "code",
      "execution_count": 42,
      "metadata": {
        "colab": {
          "base_uri": "https://localhost:8080/",
          "height": 472
        },
        "id": "fL_ILNXTLlb9",
        "outputId": "a42a9115-1cec-4ef7-bd75-76523a6b486a"
      },
      "outputs": [
        {
          "data": {
            "image/png": "[encoded data removed]",
            "text/plain": [
              "<Figure size 640x480 with 1 Axes>"
            ]
          },
          "metadata": {},
          "output_type": "display_data"
        }
      ],
      "source": [
        "\n",
        "st['IR_Change'] = st['Interest_Rate'].diff()\n",
        "spikes = st[st['IR_Change'].abs() > 2]\n",
        "plt.plot(st['Date'],st['Interest_Rate'],color='red',label='Interest Rate')\n",
        "plt.scatter(spikes['Date'],spikes['Interest_Rate'],color='blue',label='Spikes')\n",
        "plt.title('Interest Rate with Spikes')\n",
        "plt.xlabel('Date')\n",
        "plt.ylabel('Interest Rate')\n",
        "plt.legend(loc='upper left')\n",
        "plt.show()\n"
      ]
    },
    {
      "cell_type": "markdown",
      "metadata": {
        "id": "ukfRDeECEMvu"
      },
      "source": [
        "--> Interest Rate shows sudden large changes on some days."
      ]
    },
    {
      "cell_type": "code",
      "execution_count": 42,
      "metadata": {
        "id": "AivuD7W7nuxu"
      },
      "outputs": [],
      "source": []
    },
    {
      "cell_type": "markdown",
      "metadata": {
        "id": "zo9nnqNa_Mac"
      },
      "source": [
        "### 13. Do Boilliger bands make sense?\n"
      ]
    },
    {
      "cell_type": "code",
      "execution_count": 43,
      "metadata": {
        "colab": {
          "base_uri": "https://localhost:8080/",
          "height": 447
        },
        "id": "NcLUz0He_tMR",
        "outputId": "e00a0b5a-4166-43b9-ac85-847802994131"
      },
      "outputs": [
        {
          "data": {
            "text/plain": [
              "<matplotlib.legend.Legend at 0x7bd1728234d0>"
            ]
          },
          "execution_count": 43,
          "metadata": {},
          "output_type": "execute_result"
        },
        {
          "data": {
            "image/png": "[encoded data removed]",
            "text/plain": [
              "<Figure size 640x480 with 1 Axes>"
            ]
          },
          "metadata": {},
          "output_type": "display_data"
        }
      ],
      "source": [
        "plt.plot(st['Date'],st['Close'],label='Close')\n",
        "plt.plot(st['Date'],st['Bollinger_Upper'],label='Upper')\n",
        "plt.plot(st['Date'],st['Bollinger_Lower'],label='Lower')\n",
        "plt.legend()"
      ]
    },
    {
      "cell_type": "markdown",
      "metadata": {
        "id": "lTYnTkPCLn69"
      },
      "source": [
        "--> Close mostly stays within Bollinger Bands; bands widen during high volatility and narrow during low volatility."
      ]
    },
    {
      "cell_type": "code",
      "execution_count": 43,
      "metadata": {
        "id": "gS4ZIffSLrWW"
      },
      "outputs": [],
      "source": []
    },
    {
      "cell_type": "markdown",
      "metadata": {
        "id": "jReIoUn7EpFl"
      },
      "source": [
        "### 14. Is Sentiment_Score standardized (between -1 and 1)?"
      ]
    },
    {
      "cell_type": "code",
      "execution_count": 44,
      "metadata": {
        "colab": {
          "base_uri": "https://localhost:8080/"
        },
        "id": "HNqnRpEXEpaN",
        "outputId": "7b1a7f4a-e0b2-4d7f-eb79-56c154822e8f"
      },
      "outputs": [
        {
          "name": "stdout",
          "output_type": "stream",
          "text": [
            "-0.9999212930740472\n",
            "0.9999661752348248\n"
          ]
        }
      ],
      "source": [
        "print(st['Sentiment_Score'].min())\n",
        "print(st['Sentiment_Score'].max())\n"
      ]
    },
    {
      "cell_type": "markdown",
      "metadata": {
        "id": "EfFtynINLuON"
      },
      "source": [
        "--> Sentiment_Score is standardized between roughly -1 and 1."
      ]
    },
    {
      "cell_type": "code",
      "execution_count": 44,
      "metadata": {
        "id": "Wl3fetVCLz0W"
      },
      "outputs": [],
      "source": []
    },
    {
      "cell_type": "markdown",
      "metadata": {
        "id": "ziNqGNjnEpkf"
      },
      "source": [
        "### 15. What is the Avrage Trading volume?"
      ]
    },
    {
      "cell_type": "code",
      "execution_count": 45,
      "metadata": {
        "colab": {
          "base_uri": "https://localhost:8080/"
        },
        "id": "6KBVbLUpEptz",
        "outputId": "f41acc8c-516b-4185-d2d2-2a6b1abcc888"
      },
      "outputs": [
        {
          "data": {
            "text/plain": [
              "np.float64(2547134.0776579473)"
            ]
          },
          "execution_count": 45,
          "metadata": {},
          "output_type": "execute_result"
        }
      ],
      "source": [
        "st['Volume'].mean()"
      ]
    },
    {
      "cell_type": "markdown",
      "metadata": {
        "id": "gwJHK89kL1Wf"
      },
      "source": [
        "--> Average trading volume is about 2,547,134."
      ]
    },
    {
      "cell_type": "code",
      "execution_count": 45,
      "metadata": {
        "id": "BkSdGQzsL5jf"
      },
      "outputs": [],
      "source": []
    },
    {
      "cell_type": "markdown",
      "metadata": {
        "id": "iqeN2nLJEpye"
      },
      "source": [
        "### 16. What % of data has RSI > 70 (overbought zone)?"
      ]
    },
    {
      "cell_type": "code",
      "execution_count": 46,
      "metadata": {
        "colab": {
          "base_uri": "https://localhost:8080/"
        },
        "id": "rqH38DBrEp7c",
        "outputId": "6b4c9869-b98a-4b30-b98b-048749f5cb26"
      },
      "outputs": [
        {
          "name": "stdout",
          "output_type": "stream",
          "text": [
            "24\n"
          ]
        }
      ],
      "source": [
        "over = ((st[st['RSI'] > 70].shape[0] / st.shape[0]) * 100)\n",
        "print(int(over))"
      ]
    },
    {
      "cell_type": "markdown",
      "metadata": {
        "id": "vEqOlZDPL7F3"
      },
      "source": [
        "--> Around 24% of RSI values are over 70."
      ]
    },
    {
      "cell_type": "code",
      "execution_count": 46,
      "metadata": {
        "id": "LyjlR5vOL-4g"
      },
      "outputs": [],
      "source": []
    },
    {
      "cell_type": "markdown",
      "metadata": {
        "id": "C9mu-2EUEqA2"
      },
      "source": [
        "### 17. Check for monotonic date squeances."
      ]
    },
    {
      "cell_type": "code",
      "execution_count": 47,
      "metadata": {
        "colab": {
          "base_uri": "https://localhost:8080/"
        },
        "id": "qttwarwjIOu4",
        "outputId": "f3d2f17e-a7c5-4f6f-ac14-81dadfee79fd"
      },
      "outputs": [
        {
          "data": {
            "text/plain": [
              "False"
            ]
          },
          "execution_count": 47,
          "metadata": {},
          "output_type": "execute_result"
        }
      ],
      "source": [
        "\n",
        "st['Date'].is_monotonic_increasing\n"
      ]
    },
    {
      "cell_type": "code",
      "execution_count": 48,
      "metadata": {
        "colab": {
          "base_uri": "https://localhost:8080/"
        },
        "id": "htWJLKYYJK1u",
        "outputId": "27769eb6-f876-493b-ecc6-af633276e8c2"
      },
      "outputs": [
        {
          "data": {
            "text/plain": [
              "False"
            ]
          },
          "execution_count": 48,
          "metadata": {},
          "output_type": "execute_result"
        }
      ],
      "source": [
        "st['Date'].is_monotonic_decreasing"
      ]
    },
    {
      "cell_type": "markdown",
      "metadata": {
        "id": "mEjEnkkVKfEY"
      },
      "source": [
        "--> Dates are in order but not fully consecutive due to weekends, holidays, or gaps.\n"
      ]
    },
    {
      "cell_type": "code",
      "execution_count": 48,
      "metadata": {
        "id": "hb_WqrgGMGVh"
      },
      "outputs": [],
      "source": []
    },
    {
      "cell_type": "markdown",
      "metadata": {
        "id": "HHxi36erKI5F"
      },
      "source": [
        "### 18. Detect anomalies using Z-Score."
      ]
    },
    {
      "cell_type": "code",
      "execution_count": 49,
      "metadata": {
        "colab": {
          "base_uri": "https://localhost:8080/"
        },
        "id": "cyjuvSxMKg6Q",
        "outputId": "a0cd219c-9a45-4dc0-8c1d-d0a19e73eb00"
      },
      "outputs": [
        {
          "name": "stdout",
          "output_type": "stream",
          "text": [
            "Empty DataFrame\n",
            "Columns: [Date, Close]\n",
            "Index: []\n"
          ]
        }
      ],
      "source": [
        "z_scores = (st['Close'] - st['Close'].mean()) / st['Close'].std()\n",
        "anomalies = st[np.abs(z_scores) > 3]\n",
        "print(anomalies[['Date', 'Close']])"
      ]
    },
    {
      "cell_type": "markdown",
      "metadata": {
        "id": "EvlRhZOMMKFx"
      },
      "source": [
        "--> No anomalies detected in Close price using Z-Score with a threshold of 3."
      ]
    },
    {
      "cell_type": "code",
      "execution_count": 49,
      "metadata": {
        "id": "6aBwWumHMMpy"
      },
      "outputs": [],
      "source": []
    },
    {
      "cell_type": "markdown",
      "metadata": {
        "id": "AcGBihh7MRj7"
      },
      "source": [
        "### 19. Are the dates consecutive trading days (excluding weekends/holidays)?"
      ]
    },
    {
      "cell_type": "code",
      "execution_count": 50,
      "metadata": {
        "colab": {
          "base_uri": "https://localhost:8080/"
        },
        "id": "gC2p1V03o6h9",
        "outputId": "7e1e3307-eca5-490f-84fb-dc61cf294b49"
      },
      "outputs": [
        {
          "data": {
            "text/plain": [
              "np.True_"
            ]
          },
          "execution_count": 50,
          "metadata": {},
          "output_type": "execute_result"
        }
      ],
      "source": [
        "(st['Date'].diff().dt.days > 3).any()\n"
      ]
    },
    {
      "cell_type": "markdown",
      "metadata": {
        "id": "5h9U8Ys7MYui"
      },
      "source": [
        "--> The dataset’s dates are not fully consecutive, with gaps of more than three days, likely due to holidays, weekends, or missing data."
      ]
    },
    {
      "cell_type": "code",
      "execution_count": 50,
      "metadata": {
        "id": "kGadfnEkMda8"
      },
      "outputs": [],
      "source": []
    },
    {
      "cell_type": "markdown",
      "metadata": {
        "id": "fOJQwB6SMbgf"
      },
      "source": [
        "### 20. Are any Open, Close, High, or Low values zero or negative?"
      ]
    },
    {
      "cell_type": "code",
      "execution_count": 51,
      "metadata": {
        "colab": {
          "base_uri": "https://localhost:8080/",
          "height": 300
        },
        "id": "q9QsiCq8Mb6I",
        "outputId": "b646a4a5-b202-4502-ec4e-9b27bb97788d"
      },
      "outputs": [
        {
          "data": {
            "application/vnd.google.colaboratory.intrinsic+json": {
              "summary": "{\n  \"name\": \"st[cols]\",\n  \"rows\": 8,\n  \"fields\": [\n    {\n      \"column\": \"Open\",\n      \"properties\": {\n        \"dtype\": \"number\",\n        \"std\": 17711.408053251518,\n        \"min\": 49.10666398511184,\n        \"max\": 50349.0,\n        \"num_unique_values\": 8,\n        \"samples\": [\n          274.9498182282967,\n          274.9283663532811,\n          50349.0\n        ],\n        \"semantic_type\": \"\",\n        \"description\": \"\"\n      }\n    },\n    {\n      \"column\": \"Close\",\n      \"properties\": {\n        \"dtype\": \"number\",\n        \"std\": 17711.814300846818,\n        \"min\": 50.07881717897225,\n        \"max\": 50349.0,\n        \"num_unique_values\": 8,\n        \"samples\": [\n          274.9247340109256,\n          275.0056009498042,\n          50349.0\n        ],\n        \"semantic_type\": \"\",\n        \"description\": \"\"\n      }\n    },\n    {\n      \"column\": \"High\",\n      \"properties\": {\n        \"dtype\": \"number\",\n        \"std\": 17709.050924177485,\n        \"min\": 50.227411220156576,\n        \"max\": 50349.0,\n        \"num_unique_values\": 8,\n        \"samples\": [\n          281.76589306499545,\n          281.9614421539744,\n          50349.0\n        ],\n        \"semantic_type\": \"\",\n        \"description\": \"\"\n      }\n    },\n    {\n      \"column\": \"Low\",\n      \"properties\": {\n        \"dtype\": \"number\",\n        \"std\": 17713.519131342924,\n        \"min\": 47.75529232843487,\n        \"max\": 50349.0,\n        \"num_unique_values\": 8,\n        \"samples\": [\n          268.06169359402577,\n          268.1212566103528,\n          50349.0\n        ],\n        \"semantic_type\": \"\",\n        \"description\": \"\"\n      }\n    }\n  ]\n}",
              "type": "dataframe"
            },
            "text/html": [
              "\n",
              "  <div id=\"df-50343624-ee3d-4dac-95d0-30992b83b68f\" class=\"colab-df-container\">\n",
              "    <div>\n",
              "<style scoped>\n",
              "    .dataframe tbody tr th:only-of-type {\n",
              "        vertical-align: middle;\n",
              "    }\n",
              "\n",
              "    .dataframe tbody tr th {\n",
              "        vertical-align: top;\n",
              "    }\n",
              "\n",
              "    .dataframe thead th {\n",
              "        text-align: right;\n",
              "    }\n",
              "</style>\n",
              "<table border=\"1\" class=\"dataframe\">\n",
              "  <thead>\n",
              "    <tr style=\"text-align: right;\">\n",
              "      <th></th>\n",
              "      <th>Open</th>\n",
              "      <th>Close</th>\n",
              "      <th>High</th>\n",
              "      <th>Low</th>\n",
              "    </tr>\n",
              "  </thead>\n",
              "  <tbody>\n",
              "    <tr>\n",
              "      <th>count</th>\n",
              "      <td>50349.000000</td>\n",
              "      <td>50349.000000</td>\n",
              "      <td>50349.000000</td>\n",
              "      <td>50349.000000</td>\n",
              "    </tr>\n",
              "    <tr>\n",
              "      <th>mean</th>\n",
              "      <td>274.949818</td>\n",
              "      <td>274.924734</td>\n",
              "      <td>281.765893</td>\n",
              "      <td>268.061694</td>\n",
              "    </tr>\n",
              "    <tr>\n",
              "      <th>std</th>\n",
              "      <td>129.861782</td>\n",
              "      <td>129.786177</td>\n",
              "      <td>133.040144</td>\n",
              "      <td>126.627094</td>\n",
              "    </tr>\n",
              "    <tr>\n",
              "      <th>min</th>\n",
              "      <td>49.106664</td>\n",
              "      <td>50.078817</td>\n",
              "      <td>50.227411</td>\n",
              "      <td>47.755292</td>\n",
              "    </tr>\n",
              "    <tr>\n",
              "      <th>25%</th>\n",
              "      <td>162.088317</td>\n",
              "      <td>162.105889</td>\n",
              "      <td>166.265621</td>\n",
              "      <td>158.015601</td>\n",
              "    </tr>\n",
              "    <tr>\n",
              "      <th>50%</th>\n",
              "      <td>274.928366</td>\n",
              "      <td>275.005601</td>\n",
              "      <td>281.961442</td>\n",
              "      <td>268.121257</td>\n",
              "    </tr>\n",
              "    <tr>\n",
              "      <th>75%</th>\n",
              "      <td>386.653578</td>\n",
              "      <td>386.636207</td>\n",
              "      <td>396.218846</td>\n",
              "      <td>376.748125</td>\n",
              "    </tr>\n",
              "    <tr>\n",
              "      <th>max</th>\n",
              "      <td>509.361090</td>\n",
              "      <td>499.962629</td>\n",
              "      <td>524.861970</td>\n",
              "      <td>499.339660</td>\n",
              "    </tr>\n",
              "  </tbody>\n",
              "</table>\n",
              "</div>\n",
              "    <div class=\"colab-df-buttons\">\n",
              "\n",
              "  <div class=\"colab-df-container\">\n",
              "    <button class=\"colab-df-convert\" onclick=\"convertToInteractive('df-50343624-ee3d-4dac-95d0-30992b83b68f')\"\n",
              "            title=\"Convert this dataframe to an interactive table.\"\n",
              "            style=\"display:none;\">\n",
              "\n",
              "  <svg xmlns=\"http://www.w3.org/2000/svg\" height=\"24px\" viewBox=\"0 -960 960 960\">\n",
              "    <path d=\"M120-120v-720h720v720H120Zm60-500h600v-160H180v160Zm220 220h160v-160H400v160Zm0 220h160v-160H400v160ZM180-400h160v-160H180v160Zm440 0h160v-160H620v160ZM180-180h160v-160H180v160Zm440 0h160v-160H620v160Z\"/>\n",
              "  </svg>\n",
              "    </button>\n",
              "\n",
              "  <style>\n",
              "    .colab-df-container {\n",
              "      display:flex;\n",
              "      gap: 12px;\n",
              "    }\n",
              "\n",
              "    .colab-df-convert {\n",
              "      background-color: #E8F0FE;\n",
              "      border: none;\n",
              "      border-radius: 50%;\n",
              "      cursor: pointer;\n",
              "      display: none;\n",
              "      fill: #1967D2;\n",
              "      height: 32px;\n",
              "      padding: 0 0 0 0;\n",
              "      width: 32px;\n",
              "    }\n",
              "\n",
              "    .colab-df-convert:hover {\n",
              "      background-color: #E2EBFA;\n",
              "      box-shadow: 0px 1px 2px rgba(60, 64, 67, 0.3), 0px 1px 3px 1px rgba(60, 64, 67, 0.15);\n",
              "      fill: #174EA6;\n",
              "    }\n",
              "\n",
              "    .colab-df-buttons div {\n",
              "      margin-bottom: 4px;\n",
              "    }\n",
              "\n",
              "    [theme=dark] .colab-df-convert {\n",
              "      background-color: #3B4455;\n",
              "      fill: #D2E3FC;\n",
              "    }\n",
              "\n",
              "    [theme=dark] .colab-df-convert:hover {\n",
              "      background-color: #434B5C;\n",
              "      box-shadow: 0px 1px 3px 1px rgba(0, 0, 0, 0.15);\n",
              "      filter: drop-shadow(0px 1px 2px rgba(0, 0, 0, 0.3));\n",
              "      fill: #FFFFFF;\n",
              "    }\n",
              "  </style>\n",
              "\n",
              "    <script>\n",
              "      const buttonEl =\n",
              "        document.querySelector('#df-50343624-ee3d-4dac-95d0-30992b83b68f button.colab-df-convert');\n",
              "      buttonEl.style.display =\n",
              "        google.colab.kernel.accessAllowed ? 'block' : 'none';\n",
              "\n",
              "      async function convertToInteractive(key) {\n",
              "        const element = document.querySelector('#df-50343624-ee3d-4dac-95d0-30992b83b68f');\n",
              "        const dataTable =\n",
              "          await google.colab.kernel.invokeFunction('convertToInteractive',\n",
              "                                                    [key], {});\n",
              "        if (!dataTable) return;\n",
              "\n",
              "        const docLinkHtml = 'Like what you see? Visit the ' +\n",
              "          '<a target=\"_blank\" href=https://colab.research.google.com/notebooks/data_table.ipynb>data table notebook</a>'\n",
              "          + ' to learn more about interactive tables.';\n",
              "        element.innerHTML = '';\n",
              "        dataTable['output_type'] = 'display_data';\n",
              "        await google.colab.output.renderOutput(dataTable, element);\n",
              "        const docLink = document.createElement('div');\n",
              "        docLink.innerHTML = docLinkHtml;\n",
              "        element.appendChild(docLink);\n",
              "      }\n",
              "    </script>\n",
              "  </div>\n",
              "\n",
              "\n",
              "    <div id=\"df-7bab6113-ff85-4c46-ab66-8e0a754aa40c\">\n",
              "      <button class=\"colab-df-quickchart\" onclick=\"quickchart('df-7bab6113-ff85-4c46-ab66-8e0a754aa40c')\"\n",
              "                title=\"Suggest charts\"\n",
              "                style=\"display:none;\">\n",
              "\n",
              "<svg xmlns=\"http://www.w3.org/2000/svg\" height=\"24px\"viewBox=\"0 0 24 24\"\n",
              "     width=\"24px\">\n",
              "    <g>\n",
              "        <path d=\"M19 3H5c-1.1 0-2 .9-2 2v14c0 1.1.9 2 2 2h14c1.1 0 2-.9 2-2V5c0-1.1-.9-2-2-2zM9 17H7v-7h2v7zm4 0h-2V7h2v10zm4 0h-2v-4h2v4z\"/>\n",
              "    </g>\n",
              "</svg>\n",
              "      </button>\n",
              "\n",
              "<style>\n",
              "  .colab-df-quickchart {\n",
              "      --bg-color: #E8F0FE;\n",
              "      --fill-color: #1967D2;\n",
              "      --hover-bg-color: #E2EBFA;\n",
              "      --hover-fill-color: #174EA6;\n",
              "      --disabled-fill-color: #AAA;\n",
              "      --disabled-bg-color: #DDD;\n",
              "  }\n",
              "\n",
              "  [theme=dark] .colab-df-quickchart {\n",
              "      --bg-color: #3B4455;\n",
              "      --fill-color: #D2E3FC;\n",
              "      --hover-bg-color: #434B5C;\n",
              "      --hover-fill-color: #FFFFFF;\n",
              "      --disabled-bg-color: #3B4455;\n",
              "      --disabled-fill-color: #666;\n",
              "  }\n",
              "\n",
              "  .colab-df-quickchart {\n",
              "    background-color: var(--bg-color);\n",
              "    border: none;\n",
              "    border-radius: 50%;\n",
              "    cursor: pointer;\n",
              "    display: none;\n",
              "    fill: var(--fill-color);\n",
              "    height: 32px;\n",
              "    padding: 0;\n",
              "    width: 32px;\n",
              "  }\n",
              "\n",
              "  .colab-df-quickchart:hover {\n",
              "    background-color: var(--hover-bg-color);\n",
              "    box-shadow: 0 1px 2px rgba(60, 64, 67, 0.3), 0 1px 3px 1px rgba(60, 64, 67, 0.15);\n",
              "    fill: var(--button-hover-fill-color);\n",
              "  }\n",
              "\n",
              "  .colab-df-quickchart-complete:disabled,\n",
              "  .colab-df-quickchart-complete:disabled:hover {\n",
              "    background-color: var(--disabled-bg-color);\n",
              "    fill: var(--disabled-fill-color);\n",
              "    box-shadow: none;\n",
              "  }\n",
              "\n",
              "  .colab-df-spinner {\n",
              "    border: 2px solid var(--fill-color);\n",
              "    border-color: transparent;\n",
              "    border-bottom-color: var(--fill-color);\n",
              "    animation:\n",
              "      spin 1s steps(1) infinite;\n",
              "  }\n",
              "\n",
              "  @keyframes spin {\n",
              "    0% {\n",
              "      border-color: transparent;\n",
              "      border-bottom-color: var(--fill-color);\n",
              "      border-left-color: var(--fill-color);\n",
              "    }\n",
              "    20% {\n",
              "      border-color: transparent;\n",
              "      border-left-color: var(--fill-color);\n",
              "      border-top-color: var(--fill-color);\n",
              "    }\n",
              "    30% {\n",
              "      border-color: transparent;\n",
              "      border-left-color: var(--fill-color);\n",
              "      border-top-color: var(--fill-color);\n",
              "      border-right-color: var(--fill-color);\n",
              "    }\n",
              "    40% {\n",
              "      border-color: transparent;\n",
              "      border-right-color: var(--fill-color);\n",
              "      border-top-color: var(--fill-color);\n",
              "    }\n",
              "    60% {\n",
              "      border-color: transparent;\n",
              "      border-right-color: var(--fill-color);\n",
              "    }\n",
              "    80% {\n",
              "      border-color: transparent;\n",
              "      border-right-color: var(--fill-color);\n",
              "      border-bottom-color: var(--fill-color);\n",
              "    }\n",
              "    90% {\n",
              "      border-color: transparent;\n",
              "      border-bottom-color: var(--fill-color);\n",
              "    }\n",
              "  }\n",
              "</style>\n",
              "\n",
              "      <script>\n",
              "        async function quickchart(key) {\n",
              "          const quickchartButtonEl =\n",
              "            document.querySelector('#' + key + ' button');\n",
              "          quickchartButtonEl.disabled = true;  // To prevent multiple clicks.\n",
              "          quickchartButtonEl.classList.add('colab-df-spinner');\n",
              "          try {\n",
              "            const charts = await google.colab.kernel.invokeFunction(\n",
              "                'suggestCharts', [key], {});\n",
              "          } catch (error) {\n",
              "            console.error('Error during call to suggestCharts:', error);\n",
              "          }\n",
              "          quickchartButtonEl.classList.remove('colab-df-spinner');\n",
              "          quickchartButtonEl.classList.add('colab-df-quickchart-complete');\n",
              "        }\n",
              "        (() => {\n",
              "          let quickchartButtonEl =\n",
              "            document.querySelector('#df-7bab6113-ff85-4c46-ab66-8e0a754aa40c button');\n",
              "          quickchartButtonEl.style.display =\n",
              "            google.colab.kernel.accessAllowed ? 'block' : 'none';\n",
              "        })();\n",
              "      </script>\n",
              "    </div>\n",
              "\n",
              "    </div>\n",
              "  </div>\n"
            ],
            "text/plain": [
              "               Open         Close          High           Low\n",
              "count  50349.000000  50349.000000  50349.000000  50349.000000\n",
              "mean     274.949818    274.924734    281.765893    268.061694\n",
              "std      129.861782    129.786177    133.040144    126.627094\n",
              "min       49.106664     50.078817     50.227411     47.755292\n",
              "25%      162.088317    162.105889    166.265621    158.015601\n",
              "50%      274.928366    275.005601    281.961442    268.121257\n",
              "75%      386.653578    386.636207    396.218846    376.748125\n",
              "max      509.361090    499.962629    524.861970    499.339660"
            ]
          },
          "execution_count": 51,
          "metadata": {},
          "output_type": "execute_result"
        }
      ],
      "source": [
        "\n",
        "cols = ['Open', 'Close', 'High', 'Low']\n",
        "st[cols].describe()\n"
      ]
    },
    {
      "cell_type": "markdown",
      "metadata": {
        "id": "FY50PbcYMcA1"
      },
      "source": [
        "--> Open, Close, High, and Low values are never zero or negative."
      ]
    },
    {
      "cell_type": "code",
      "execution_count": 51,
      "metadata": {
        "id": "qlVPdWcMMoPc"
      },
      "outputs": [],
      "source": []
    },
    {
      "cell_type": "markdown",
      "metadata": {
        "id": "6CcSdkCtN6md"
      },
      "source": [
        "## Summary"
      ]
    },
    {
      "cell_type": "markdown",
      "metadata": {
        "id": "nriXKZirOAJe"
      },
      "source": [
        "--> Close and Open are always positive, MACD can be negative.\n",
        "\n",
        "--> RSI ranges from 10 to 90, with about 24% above 70.\n",
        "\n",
        "--> Average trading volume is around 2.5 million, but there are some outliers.\n",
        "\n",
        "--> Interest Rate shows occasional sudden jumps.\n",
        "\n",
        "--> Close mostly stays within Bollinger Bands, which widen in volatile periods.\n",
        "\n",
        "--> Sentiment_Score ranges roughly from -1 to 1.\n",
        "\n",
        "--> Strong correlations between Close, Open, High, Low, and SMA_10.\n",
        "\n",
        "--> Dates are in order but have gaps due to weekends, holidays, or missing data."
      ]
    },
    {
      "cell_type": "code",
      "execution_count": 51,
      "metadata": {
        "id": "fY3X1fKlQHBU"
      },
      "outputs": [],
      "source": []
    },
    {
      "cell_type": "markdown",
      "metadata": {
        "id": "o0jLNChNPGS4"
      },
      "source": [
        "## Insightful Analysis Questions"
      ]
    },
    {
      "cell_type": "markdown",
      "metadata": {
        "id": "IoH8zfWtMcHG"
      },
      "source": [
        "### 1. What’s the average closing price over the dataset?"
      ]
    },
    {
      "cell_type": "code",
      "execution_count": 52,
      "metadata": {
        "colab": {
          "base_uri": "https://localhost:8080/"
        },
        "id": "IKUErCELMcOT",
        "outputId": "2e984af4-f266-4b3f-dc03-1467a5bb5ab1"
      },
      "outputs": [
        {
          "data": {
            "text/plain": [
              "np.float64(274.9247340109256)"
            ]
          },
          "execution_count": 52,
          "metadata": {},
          "output_type": "execute_result"
        }
      ],
      "source": [
        "st['Close'].mean()"
      ]
    },
    {
      "cell_type": "markdown",
      "metadata": {
        "id": "ozOPY3GKRTsz"
      },
      "source": [
        "--> The average closing price is 274.94."
      ]
    },
    {
      "cell_type": "code",
      "execution_count": 52,
      "metadata": {
        "id": "-AHbGraBUAAd"
      },
      "outputs": [],
      "source": []
    },
    {
      "cell_type": "markdown",
      "metadata": {
        "id": "okU3eFNfMcWG"
      },
      "source": [
        "### 2. Which technical indicator has the highest correlation with Target?"
      ]
    },
    {
      "cell_type": "code",
      "execution_count": 53,
      "metadata": {
        "colab": {
          "base_uri": "https://localhost:8080/"
        },
        "id": "iIvN5fBDPujP",
        "outputId": "ce42ed25-1158-49c6-be88-68f0ada8f82c"
      },
      "outputs": [
        {
          "name": "stdout",
          "output_type": "stream",
          "text": [
            "Next_Close\n"
          ]
        }
      ],
      "source": [
        "num = st.select_dtypes(include='number')\n",
        "corr = num.corr()['Target'].drop('Target')\n",
        "print(corr.idxmax())"
      ]
    },
    {
      "cell_type": "markdown",
      "metadata": {
        "id": "eM4AH3ExUBlW"
      },
      "source": [
        "--> The Next_Close column has the strongest correlation with the Target."
      ]
    },
    {
      "cell_type": "code",
      "execution_count": 53,
      "metadata": {
        "id": "Og0R3hjmUHIe"
      },
      "outputs": [],
      "source": []
    },
    {
      "cell_type": "markdown",
      "metadata": {
        "id": "f31sfnP1RmoB"
      },
      "source": [
        "### 3. Is RSI > 70 usually followed by a drop (Target = 0)?"
      ]
    },
    {
      "cell_type": "code",
      "execution_count": 54,
      "metadata": {
        "colab": {
          "base_uri": "https://localhost:8080/"
        },
        "id": "ASJHb5oYSJpe",
        "outputId": "e9c78b98-2cd4-4afd-c0cb-0ee712c0ad14"
      },
      "outputs": [
        {
          "name": "stdout",
          "output_type": "stream",
          "text": [
            "49.71986553545702\n"
          ]
        }
      ],
      "source": [
        "\n",
        "high_rsi = st[st['RSI'] > 70]\n",
        "dp = (high_rsi['Target'] == 0).mean() * 100\n",
        "print(dp)\n"
      ]
    },
    {
      "cell_type": "markdown",
      "metadata": {
        "id": "LHvFZn1qUIOH"
      },
      "source": [
        "--> When RSI > 70, there’s about a 49.71% chance the stock drops."
      ]
    },
    {
      "cell_type": "code",
      "execution_count": 54,
      "metadata": {
        "id": "c89jzmUqUT74"
      },
      "outputs": [],
      "source": []
    },
    {
      "cell_type": "markdown",
      "metadata": {
        "id": "Ps-4jvu2UR-p"
      },
      "source": [
        "### 4. Do high sentiment scores (> 0.5) predict upward movement?\n"
      ]
    },
    {
      "cell_type": "code",
      "execution_count": 55,
      "metadata": {
        "colab": {
          "base_uri": "https://localhost:8080/"
        },
        "id": "tA7dMnpPU-Ji",
        "outputId": "93a03646-b2bd-4956-98b9-f5d4ee73d37e"
      },
      "outputs": [
        {
          "name": "stdout",
          "output_type": "stream",
          "text": [
            "49.90058060924203\n"
          ]
        }
      ],
      "source": [
        "score = st[st['Sentiment_Score'] > 0.5]\n",
        "mov = (score['Target']==1).mean() * 100\n",
        "print(mov)"
      ]
    },
    {
      "cell_type": "markdown",
      "metadata": {
        "id": "VLYulD6MUY75"
      },
      "source": [
        "--> High Sentiment_Scores predicts upward movement about 50%."
      ]
    },
    {
      "cell_type": "code",
      "execution_count": 55,
      "metadata": {
        "id": "PR_0Ns_XUwz7"
      },
      "outputs": [],
      "source": []
    },
    {
      "cell_type": "markdown",
      "metadata": {
        "id": "XxXUtFkIUwMS"
      },
      "source": [
        "### 5. How does GDP growth affect stock movement?"
      ]
    },
    {
      "cell_type": "code",
      "execution_count": 56,
      "metadata": {
        "colab": {
          "base_uri": "https://localhost:8080/",
          "height": 462
        },
        "id": "JJC4-6OEW2zT",
        "outputId": "99e7e3e7-d17e-48f1-a6c0-cf1e21d205ad"
      },
      "outputs": [
        {
          "data": {
            "image/png": "[encoded data removed]",
            "text/plain": [
              "<Figure size 640x480 with 1 Axes>"
            ]
          },
          "metadata": {},
          "output_type": "display_data"
        }
      ],
      "source": [
        "\n",
        "st.boxplot(column='GDP_Growth', by='Target')\n",
        "plt.xlabel('Stock Movement')\n",
        "plt.ylabel('GDP Growth')\n",
        "plt.title('GDP Growth vs Stock Movement')\n",
        "plt.suptitle('')\n",
        "plt.show()\n"
      ]
    },
    {
      "cell_type": "markdown",
      "metadata": {
        "id": "jQ4vuXOOU9js"
      },
      "source": [
        "--> Higher GDP growth slightly increases the chance of stock rises"
      ]
    },
    {
      "cell_type": "code",
      "execution_count": 56,
      "metadata": {
        "id": "BdhWJol8VAwV"
      },
      "outputs": [],
      "source": []
    },
    {
      "cell_type": "markdown",
      "metadata": {
        "id": "qT1wDBxYXUWO"
      },
      "source": [
        "### 6. What is the average return when MACD > 0?"
      ]
    },
    {
      "cell_type": "code",
      "execution_count": 57,
      "metadata": {
        "colab": {
          "base_uri": "https://localhost:8080/"
        },
        "id": "pO2LwewCZsgc",
        "outputId": "a32e7e5a-087e-4353-dd44-95d915b4a4e8"
      },
      "outputs": [
        {
          "name": "stdout",
          "output_type": "stream",
          "text": [
            "0.010591823320566855\n"
          ]
        }
      ],
      "source": [
        "con = st[st['MACD'] > 0]\n",
        "ret = (con['Next_Close'] - con['Close']).mean()\n",
        "print(ret)"
      ]
    },
    {
      "cell_type": "markdown",
      "metadata": {
        "id": "uFnKo8HoVIvm"
      },
      "source": [
        "--> When MACD > 0 the average return is 0.0105"
      ]
    },
    {
      "cell_type": "code",
      "execution_count": 57,
      "metadata": {
        "id": "cVlHcU02VSrG"
      },
      "outputs": [],
      "source": []
    },
    {
      "cell_type": "markdown",
      "metadata": {
        "id": "WGum3lK4aOrd"
      },
      "source": [
        "### 7. What is the win rate (Target=1 %) overall?"
      ]
    },
    {
      "cell_type": "code",
      "execution_count": 58,
      "metadata": {
        "colab": {
          "base_uri": "https://localhost:8080/"
        },
        "id": "BRbKRXXVOb0D",
        "outputId": "9ed818c6-b231-4774-fc64-a5e0a691749c"
      },
      "outputs": [
        {
          "data": {
            "text/plain": [
              "np.float64(50.19762060815508)"
            ]
          },
          "execution_count": 58,
          "metadata": {},
          "output_type": "execute_result"
        }
      ],
      "source": [
        "(st['Target'] == 1).mean() * 100"
      ]
    },
    {
      "cell_type": "markdown",
      "metadata": {
        "id": "6Vq_OdbgVUUP"
      },
      "source": [
        "--> The overall win rate is around 50%"
      ]
    },
    {
      "cell_type": "code",
      "execution_count": 58,
      "metadata": {
        "id": "mmThMLJoVdhA"
      },
      "outputs": [],
      "source": []
    },
    {
      "cell_type": "markdown",
      "metadata": {
        "id": "uvn9S5iNO5C4"
      },
      "source": [
        "### 8. How accurate would a naive “buy every day” model be?"
      ]
    },
    {
      "cell_type": "code",
      "execution_count": 59,
      "metadata": {
        "colab": {
          "base_uri": "https://localhost:8080/"
        },
        "id": "2jpkJEDPQszt",
        "outputId": "6de4f69c-b0ae-40c7-9201-d572a83e0fc9"
      },
      "outputs": [
        {
          "data": {
            "text/plain": [
              "np.float64(50.19762060815508)"
            ]
          },
          "execution_count": 59,
          "metadata": {},
          "output_type": "execute_result"
        }
      ],
      "source": [
        "(st['Target'] == 1).mean() * 100"
      ]
    },
    {
      "cell_type": "code",
      "execution_count": 59,
      "metadata": {
        "id": "yFwzsBqVWMON"
      },
      "outputs": [],
      "source": []
    },
    {
      "cell_type": "markdown",
      "metadata": {
        "id": "OjDJJAMzQ7Fc"
      },
      "source": [
        "### 9. What does Bollinger Band compression indicate?"
      ]
    },
    {
      "cell_type": "code",
      "execution_count": 60,
      "metadata": {
        "colab": {
          "base_uri": "https://localhost:8080/",
          "height": 430
        },
        "id": "9mg95JFxXi5u",
        "outputId": "031e4b61-e943-4ede-9e39-81acb624c411"
      },
      "outputs": [
        {
          "data": {
            "image/png": "[encoded data removed]",
            "text/plain": [
              "<Figure size 640x480 with 1 Axes>"
            ]
          },
          "metadata": {},
          "output_type": "display_data"
        }
      ],
      "source": [
        "plt.plot(st['Date'], st['Close'], label='Close')\n",
        "plt.plot(st['Date'], st['Bollinger_Upper'],label='Upper')\n",
        "plt.plot(st['Date'], st['Bollinger_Lower'],label='Lower')\n",
        "plt.legend()\n",
        "plt.show()\n"
      ]
    },
    {
      "cell_type": "markdown",
      "metadata": {
        "id": "lt2ntyESYrkm"
      },
      "source": [
        "--> When the Bollinger Bands squeeze together, it means the price isn’t moving much, but a big price move could happen soon. The direction of that move is not clear."
      ]
    },
    {
      "cell_type": "code",
      "execution_count": null,
      "metadata": {
        "id": "DdHYS3ECpOwG"
      },
      "outputs": [],
      "source": []
    },
    {
      "cell_type": "markdown",
      "metadata": {
        "id": "d5__BJ5-TbLb"
      },
      "source": [
        "### 10. Does low volume relate to price drops(Target=0)?"
      ]
    },
    {
      "cell_type": "code",
      "execution_count": 61,
      "metadata": {
        "colab": {
          "base_uri": "https://localhost:8080/"
        },
        "id": "E_P8sWHAfwud",
        "outputId": "2ce13a02-b026-40ad-987f-96c475c0e621"
      },
      "outputs": [
        {
          "data": {
            "text/plain": [
              "np.float64(49.50347567030784)"
            ]
          },
          "execution_count": 61,
          "metadata": {},
          "output_type": "execute_result"
        }
      ],
      "source": [
        "low_volume = st['Volume'] < st['Volume'].quantile(0.2)\n",
        "\n",
        "(st[low_volume]['Target'] == 0).mean() * 100\n"
      ]
    },
    {
      "cell_type": "markdown",
      "metadata": {
        "id": "q0YeyroIZPTZ"
      },
      "source": [
        "--> Low volume only slightly relates to price drops 49.50%."
      ]
    },
    {
      "cell_type": "code",
      "execution_count": 61,
      "metadata": {
        "id": "7uu0BXlTZiVt"
      },
      "outputs": [],
      "source": []
    },
    {
      "cell_type": "markdown",
      "metadata": {
        "id": "POJxuOnMUmPt"
      },
      "source": [
        "### 11. Plot rolling mean vs price"
      ]
    },
    {
      "cell_type": "code",
      "execution_count": 62,
      "metadata": {
        "colab": {
          "base_uri": "https://localhost:8080/",
          "height": 472
        },
        "id": "dZuAQeL-WBJA",
        "outputId": "0592c77b-4277-4ea6-93a5-fc15fb8c151b"
      },
      "outputs": [
        {
          "data": {
            "image/png": "[encoded data removed]",
            "text/plain": [
              "<Figure size 640x480 with 1 Axes>"
            ]
          },
          "metadata": {},
          "output_type": "display_data"
        }
      ],
      "source": [
        "\n",
        "st['Rolling_Mean'] = st['Close'].rolling(window=20).mean()\n",
        "\n",
        "plt.plot(st['Date'], st['Close'], label='Close Price',color='yellow')\n",
        "plt.plot(st['Date'], st['Rolling_Mean'], label='Rolling Mean',color='red')\n",
        "\n",
        "plt.xlabel('Date')\n",
        "plt.ylabel('Price')\n",
        "plt.title('Close Price vs Rolling Mean')\n",
        "plt.legend(loc='upper right')\n",
        "plt.show()\n"
      ]
    },
    {
      "cell_type": "markdown",
      "metadata": {
        "id": "3-4ucVutX-Ra"
      },
      "source": [
        "\n",
        "--> The chart shows the stock’s daily Close Price in yellow and its 20-day average in red, making it easy to see short-term price changes compared to the overall trend."
      ]
    },
    {
      "cell_type": "code",
      "execution_count": 62,
      "metadata": {
        "id": "DNmWz9P4aNwI"
      },
      "outputs": [],
      "source": []
    },
    {
      "cell_type": "markdown",
      "metadata": {
        "id": "kDggae4jX-XD"
      },
      "source": [
        "### 12. What % of up days occur with MACD > 0 and RSI < 70?"
      ]
    },
    {
      "cell_type": "code",
      "execution_count": 63,
      "metadata": {
        "colab": {
          "base_uri": "https://localhost:8080/"
        },
        "id": "iW1Fo1cnX-bp",
        "outputId": "04f21550-1100-4779-b76e-05854d0ff992"
      },
      "outputs": [
        {
          "data": {
            "text/plain": [
              "np.float64(50.0764646944049)"
            ]
          },
          "execution_count": 63,
          "metadata": {},
          "output_type": "execute_result"
        }
      ],
      "source": [
        "condition = (st['MACD'] > 0) & (st['RSI'] < 70)\n",
        "\n",
        "(st[condition]['Target'] == 1).mean() * 100"
      ]
    },
    {
      "cell_type": "markdown",
      "metadata": {
        "id": "G4gwF7MxaUZB"
      },
      "source": [
        "--> Total 50% of up days occur with MACD > 0 and RSI < 70."
      ]
    },
    {
      "cell_type": "code",
      "execution_count": 63,
      "metadata": {
        "id": "YhmFTjH9ac9K"
      },
      "outputs": [],
      "source": []
    },
    {
      "cell_type": "markdown",
      "metadata": {
        "id": "LzedyjDDX-jG"
      },
      "source": [
        "### 13. How much profit could be made using Target 1 strategy?"
      ]
    },
    {
      "cell_type": "code",
      "execution_count": 64,
      "metadata": {
        "colab": {
          "base_uri": "https://localhost:8080/"
        },
        "id": "Mus_oBr1X-mo",
        "outputId": "32cd53d6-010f-4eef-e47b-71faa2490902"
      },
      "outputs": [
        {
          "data": {
            "text/plain": [
              "np.float64(69927.2345850823)"
            ]
          },
          "execution_count": 64,
          "metadata": {},
          "output_type": "execute_result"
        }
      ],
      "source": [
        "(st[st['Target'] == 1]['Next_Close'] - st[st['Target'] == 1]['Close']).sum()\n",
        "\n"
      ]
    },
    {
      "cell_type": "markdown",
      "metadata": {
        "id": "ZQA4lNg-atWc"
      },
      "source": [
        "--> Using a Target = 1 strategy, the potential profit is 69,927."
      ]
    },
    {
      "cell_type": "code",
      "execution_count": 64,
      "metadata": {
        "id": "yStwFq49aw4c"
      },
      "outputs": [],
      "source": []
    },
    {
      "cell_type": "markdown",
      "metadata": {
        "id": "mJ5qy2GzX-s8"
      },
      "source": [
        "### 14. Does lower interest rate lead to stock rise(Target=1)?"
      ]
    },
    {
      "cell_type": "code",
      "execution_count": 65,
      "metadata": {
        "colab": {
          "base_uri": "https://localhost:8080/"
        },
        "id": "OH37ewl8X-wD",
        "outputId": "51e676c1-5e9a-4a78-df5f-5784337feb2b"
      },
      "outputs": [
        {
          "data": {
            "text/plain": [
              "np.float64(50.135059982521646)"
            ]
          },
          "execution_count": 65,
          "metadata": {},
          "output_type": "execute_result"
        }
      ],
      "source": [
        "low_ir = st['Interest_Rate'] < st['Interest_Rate'].median()\n",
        "(st[low_ir]['Target'] == 1).mean() * 100"
      ]
    },
    {
      "cell_type": "markdown",
      "metadata": {
        "id": "uDfH5E9Qp4NO"
      },
      "source": [
        "--> Lower interest rates lead to stock rises about 50% of the time, so there’s no clear effect."
      ]
    },
    {
      "cell_type": "markdown",
      "metadata": {
        "id": "LhWief4Cp5DF"
      },
      "source": [
        "## Summary"
      ]
    },
    {
      "cell_type": "markdown",
      "metadata": {
        "id": "9k94PJqep4-0"
      },
      "source": [
        "--> The average closing price is 274.94.\n",
        "\n",
        "--> Next_Close column has the strongest correlation with the Target.\n",
        "\n",
        "--> When RSI > 70, the stock drops about 50% of the time.\n",
        "\n",
        "--> High Sentiment_Scores only a little bit show that the stock might go up.\n",
        "\n",
        "--> Higher GDP growth slightly increases the chance of stock rises.\n",
        "\n",
        "--> When MACD > 0, the average return is 0.0105, and 50% of up days occur with MACD > 0 and RSI < 70.\n",
        "\n",
        "--> Bollinger Bands squeezing means low price swings and a possible upcoming move, direction unknown.\n",
        "\n",
        "--> Low volume has little effect on price drops.\n",
        "\n",
        "--> Using a Target = 1 strategy, potential profit is 69,927.\n",
        "\n",
        "--> Lower interest rates show no clear effect on stock rises."
      ]
    },
    {
      "cell_type": "code",
      "execution_count": null,
      "metadata": {
        "id": "wbwLloR0p44i"
      },
      "outputs": [],
      "source": []
    },
    {
      "cell_type": "markdown",
      "metadata": {
        "id": "Y9IWf2Akp4ui"
      },
      "source": [
        "## Conclusion"
      ]
    },
    {
      "cell_type": "markdown",
      "metadata": {
        "id": "si7PBmFJsSQa"
      },
      "source": [
        "--> Close and Open are always positive and MACD can be negative.\n",
        "\n",
        "--> RSI is mostly between 10 and 90, with about 24% above 70, giving only a 50% chance of a drop.\n",
        "\n",
        "--> Interest Rate sometimes jumps suddenly, but lower rates don’t clearly affect stock rises.\n",
        "\n",
        "--> Close mostly stays within Bollinger Bands when the bands squeeze, it signals a possible upcoming price move, but the direction is uncertain.\n",
        "\n",
        "--> Strong correlations exist between Close, Open, High, Low, and SMA_10.\n",
        "\n",
        "--> Higher GDP growth slightly increases the chance of stock rises.\n",
        "\n",
        "--> When MACD > 0, average returns are positive 0.0105, and about 50% of up days happen with MACD > 0 and RSI < 70.\n",
        "\n",
        "--> Using a Target = 1 strategy, potential profit is 69,927.\n",
        "\n",
        "--> Average closing price is 274.94."
      ]
    },
    {
      "cell_type": "code",
      "execution_count": null,
      "metadata": {
        "id": "tePxa0kPtK7Y"
      },
      "outputs": [],
      "source": []
    },
    {
      "cell_type": "code",
      "execution_count": null,
      "metadata": {
        "id": "KSDg4qGStVRB"
      },
      "outputs": [],
      "source": []
    },
    {
      "cell_type": "code",
      "execution_count": null,
      "metadata": {
        "id": "4-LJYv3OtVbg"
      },
      "outputs": [],
      "source": []
    },
    {
      "cell_type": "code",
      "execution_count": null,
      "metadata": {
        "id": "yuClKdbutVg5"
      },
      "outputs": [],
      "source": []
    },
    {
      "cell_type": "code",
      "execution_count": null,
      "metadata": {
        "id": "Kcw-wucRtVkY"
      },
      "outputs": [],
      "source": []
    },
    {
      "cell_type": "code",
      "execution_count": null,
      "metadata": {
        "id": "iYuGYs14tVn5"
      },
      "outputs": [],
      "source": []
    }
  ],
  "metadata": {
    "colab": {
      "provenance": []
    },
    "kernelspec": {
      "display_name": "Python 3",
      "name": "python3"
    },
    "language_info": {
      "name": "python"
    }
  },
  "nbformat": 4,
  "nbformat_minor": 0
}
