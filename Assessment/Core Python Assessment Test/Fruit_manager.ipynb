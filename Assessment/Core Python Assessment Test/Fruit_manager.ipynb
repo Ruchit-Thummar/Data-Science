{
 "cells": [
  {
   "cell_type": "code",
   "execution_count": 1,
   "id": "f924e3c5-4851-4904-ad28-171919467e02",
   "metadata": {},
   "outputs": [],
   "source": [
    "import datetime\n",
    "\n",
    "def log_transaction(message):\n",
    "    timestamp = datetime.datetime.now().strftime(\"%Y-%m-%d %H:%M:%S\")\n",
    "    with open(\"activity.log\", \"a\") as f:\n",
    "        f.write(f\"[{timestamp}] {message}\\n\")\n",
    "\n",
    "\n",
    "def run_store():\n",
    "    print(\"Welcome to the Fruit Market \")\n",
    "\n",
    "    while True:\n",
    "        print(\"\\nPlease choose your role \")\n",
    "        print(\"1. Manager\")\n",
    "        print(\"2. Customer\")\n",
    "\n",
    "        role = input(\"Enter your choice \")\n",
    "\n",
    "        if role == '1':\n",
    "            manager_menu()\n",
    "            \n",
    "        elif role == '2':\n",
    "            customer_menu()\n",
    "            \n",
    "        else:\n",
    "            print(\"Invalid input\")\n",
    "\n",
    "def manager_menu():\n",
    "    while True:\n",
    "        print(\"\\nManager Menu\")\n",
    "        print(\"1. Add Fruit Stock\")\n",
    "        print(\"2. View Fruits Stock\")\n",
    "        print(\"3. Update Fruit Stock\")\n",
    "\n",
    "        choice = input(\"Enter your choice \")\n",
    "\n",
    "        if choice == '1':\n",
    "            add_fruits()\n",
    "\n",
    "        elif choice == '2':\n",
    "            view_fruits()\n",
    "\n",
    "        elif choice == '3':\n",
    "            update_fruits()\n",
    "\n",
    "        else:\n",
    "            print(\"Invalid option\")\n",
    "        \n",
    "        again = input(\"Do you want to perform more operations? \").lower()\n",
    "        if again != 'yes':\n",
    "            break\n",
    "\n",
    "fruit_stock = {}\n",
    "\n",
    "def add_fruits():\n",
    "    name = input('Fruit name ').lower()\n",
    "    qty = int(input('Quantity '))\n",
    "    price = int(input('Price '))\n",
    "\n",
    "    fruit_stock[name] = {'price': price, 'quantity': qty}\n",
    "    print('Fruit added')\n",
    "    \n",
    "    log_transaction(f\"Added {qty} {name} at {price}\")\n",
    "    print(\"Task completed successfully\")\n",
    "\n",
    "def view_fruits():\n",
    "    if fruit_stock:\n",
    "        print(fruit_stock)\n",
    "    else:\n",
    "        print('No fruits in stock')\n",
    "\n",
    "    print(\"Task completed successfully\")\n",
    "\n",
    "def update_fruits():\n",
    "    name = input('Enter fruit name to update ').lower()\n",
    "\n",
    "    if name not in fruit_stock:\n",
    "        print(f'{name} fruit is not found')\n",
    "        return\n",
    "\n",
    "    print('What do you want to update?')\n",
    "    print(\"1. Name\")\n",
    "    print(\"2. Quantity\")\n",
    "    print(\"3. Price\")\n",
    "\n",
    "    c = input('Enter your choice: ')\n",
    "\n",
    "    if c == '1':\n",
    "        newname = input('Enter new name ').lower()\n",
    "        fruit_stock[newname] = fruit_stock.pop(name)\n",
    "        name = newname\n",
    "        print(f\" Name changed to {name}\")\n",
    "        log_transaction(f\"Renamed fruit to {name}\")\n",
    "\n",
    "    elif c == '2':\n",
    "        qty = int(input('Enter new quantity '))\n",
    "        fruit_stock[name]['quantity'] = qty\n",
    "        print(f\"Quantity of {name} updated\")\n",
    "        log_transaction(f\"Updated {name} quantity to {qty}\")\n",
    "\n",
    "    elif c == '3':\n",
    "        price = int(input('Enter new price: '))\n",
    "        fruit_stock[name]['price'] = price\n",
    "        print(f\"Price of {name} updated\")\n",
    "        log_transaction(f\"Updated {name} price to {price}\")\n",
    "\n",
    "    else:\n",
    "        print(\"Invalid option selected\")\n",
    "        return\n",
    "\n",
    "    print(\" Task completed successfully\")\n",
    "\n",
    "def customer_menu():\n",
    "    while True:\n",
    "        print(\"\\nCustomer Menu \")\n",
    "        print(\"1. View Transactions\")\n",
    "\n",
    "        choice = input(\"Enter your choice \")\n",
    "\n",
    "        if choice == '1':\n",
    "            view_log()\n",
    "\n",
    "        else:\n",
    "            print(\"Invalid option\")\n",
    "\n",
    "def view_log():\n",
    "    with open(\"activity.log\", \"r\") as f:\n",
    "        data = f.read()\n",
    "    print(data)\n",
    "\n"
   ]
  },
  {
   "cell_type": "code",
   "execution_count": null,
   "id": "601e41e7-f18b-4728-9c00-295cfa204ecc",
   "metadata": {},
   "outputs": [
    {
     "name": "stdout",
     "output_type": "stream",
     "text": [
      "Welcome to the Fruit Market \n",
      "\n",
      "Please choose your role \n",
      "1. Manager\n",
      "2. Customer\n"
     ]
    },
    {
     "name": "stdin",
     "output_type": "stream",
     "text": [
      "Enter your choice  1\n"
     ]
    },
    {
     "name": "stdout",
     "output_type": "stream",
     "text": [
      "\n",
      "Manager Menu\n",
      "1. Add Fruit Stock\n",
      "2. View Fruits Stock\n",
      "3. Update Fruit Stock\n"
     ]
    },
    {
     "name": "stdin",
     "output_type": "stream",
     "text": [
      "Enter your choice  2\n"
     ]
    },
    {
     "name": "stdout",
     "output_type": "stream",
     "text": [
      "No fruits in stock\n",
      "Task completed successfully\n"
     ]
    },
    {
     "name": "stdin",
     "output_type": "stream",
     "text": [
      "Do you want to perform more operations?  no\n"
     ]
    },
    {
     "name": "stdout",
     "output_type": "stream",
     "text": [
      "\n",
      "Please choose your role \n",
      "1. Manager\n",
      "2. Customer\n"
     ]
    }
   ],
   "source": [
    "run_store()"
   ]
  },
  {
   "cell_type": "code",
   "execution_count": null,
   "id": "b2f13cb5-1f47-4df4-9a00-5e98828b71ba",
   "metadata": {},
   "outputs": [],
   "source": []
  }
 ],
 "metadata": {
  "kernelspec": {
   "display_name": "Python 3 (ipykernel)",
   "language": "python",
   "name": "python3"
  },
  "language_info": {
   "codemirror_mode": {
    "name": "ipython",
    "version": 3
   },
   "file_extension": ".py",
   "mimetype": "text/x-python",
   "name": "python",
   "nbconvert_exporter": "python",
   "pygments_lexer": "ipython3",
   "version": "3.13.3"
  }
 },
 "nbformat": 4,
 "nbformat_minor": 5
}
